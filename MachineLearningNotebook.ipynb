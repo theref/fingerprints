{
 "cells": [
  {
   "cell_type": "code",
   "execution_count": 1,
   "metadata": {
    "collapsed": false
   },
   "outputs": [],
   "source": [
    "import numpy as np\n",
    "import axelrod as axl\n",
    "import pandas as pd\n",
    "from MachineLearning import create_test_df, clean_test_df, create_large_df"
   ]
  },
  {
   "cell_type": "code",
   "execution_count": 2,
   "metadata": {
    "collapsed": true
   },
   "outputs": [],
   "source": [
    "strategies = [axl.TitForTat(), axl.Cooperator(), axl.Defector(), axl.Alternator(), axl.WinStayLoseShift(), axl.Bully()]\n",
    "strategies = list(np.repeat(strategies, 3))"
   ]
  },
  {
   "cell_type": "code",
   "execution_count": 3,
   "metadata": {
    "collapsed": false
   },
   "outputs": [
    {
     "name": "stderr",
     "output_type": "stream",
     "text": []
    },
    {
     "data": {
      "text/html": [
       "<div>\n",
       "<table border=\"1\" class=\"dataframe\">\n",
       "  <thead>\n",
       "    <tr style=\"text-align: right;\">\n",
       "      <th></th>\n",
       "      <th>Rank</th>\n",
       "      <th>Name</th>\n",
       "      <th>Median_score</th>\n",
       "      <th>Cooperation_rating</th>\n",
       "      <th>Wins</th>\n",
       "      <th>Initial_C_rate</th>\n",
       "      <th>CC_rate</th>\n",
       "      <th>CD_rate</th>\n",
       "      <th>DC_rate</th>\n",
       "      <th>DD_rate</th>\n",
       "      <th>CC_to_C_rate</th>\n",
       "      <th>CD_to_C_rate</th>\n",
       "      <th>DC_to_C_rate</th>\n",
       "      <th>DD_to_C_rate</th>\n",
       "    </tr>\n",
       "  </thead>\n",
       "  <tbody>\n",
       "    <tr>\n",
       "      <th>0</th>\n",
       "      <td>0</td>\n",
       "      <td>Defector</td>\n",
       "      <td>3.017600</td>\n",
       "      <td>0.000000</td>\n",
       "      <td>23.0</td>\n",
       "      <td>0.000000</td>\n",
       "      <td>0.000000</td>\n",
       "      <td>0.000000</td>\n",
       "      <td>0.504400</td>\n",
       "      <td>0.495600</td>\n",
       "      <td>0.000000</td>\n",
       "      <td>0.000000</td>\n",
       "      <td>0.000000</td>\n",
       "      <td>0.000000</td>\n",
       "    </tr>\n",
       "    <tr>\n",
       "      <th>1</th>\n",
       "      <td>1</td>\n",
       "      <td>Dual Joss-Ann Tit For Tat</td>\n",
       "      <td>3.016389</td>\n",
       "      <td>0.110556</td>\n",
       "      <td>14.0</td>\n",
       "      <td>0.000000</td>\n",
       "      <td>0.041944</td>\n",
       "      <td>0.068611</td>\n",
       "      <td>0.500278</td>\n",
       "      <td>0.389167</td>\n",
       "      <td>0.000000</td>\n",
       "      <td>0.230004</td>\n",
       "      <td>0.000000</td>\n",
       "      <td>0.280903</td>\n",
       "    </tr>\n",
       "    <tr>\n",
       "      <th>2</th>\n",
       "      <td>2</td>\n",
       "      <td>Defector</td>\n",
       "      <td>3.016000</td>\n",
       "      <td>0.000000</td>\n",
       "      <td>22.0</td>\n",
       "      <td>0.000000</td>\n",
       "      <td>0.000000</td>\n",
       "      <td>0.000000</td>\n",
       "      <td>0.504000</td>\n",
       "      <td>0.496000</td>\n",
       "      <td>0.000000</td>\n",
       "      <td>0.000000</td>\n",
       "      <td>0.000000</td>\n",
       "      <td>0.000000</td>\n",
       "    </tr>\n",
       "    <tr>\n",
       "      <th>3</th>\n",
       "      <td>3</td>\n",
       "      <td>Dual Joss-Ann Tit For Tat</td>\n",
       "      <td>3.000000</td>\n",
       "      <td>0.000000</td>\n",
       "      <td>15.0</td>\n",
       "      <td>0.000000</td>\n",
       "      <td>0.000000</td>\n",
       "      <td>0.000000</td>\n",
       "      <td>0.500000</td>\n",
       "      <td>0.500000</td>\n",
       "      <td>0.000000</td>\n",
       "      <td>0.000000</td>\n",
       "      <td>0.000000</td>\n",
       "      <td>0.000000</td>\n",
       "    </tr>\n",
       "    <tr>\n",
       "      <th>4</th>\n",
       "      <td>4</td>\n",
       "      <td>Defector</td>\n",
       "      <td>2.980000</td>\n",
       "      <td>0.000000</td>\n",
       "      <td>23.0</td>\n",
       "      <td>0.000000</td>\n",
       "      <td>0.000000</td>\n",
       "      <td>0.000000</td>\n",
       "      <td>0.495000</td>\n",
       "      <td>0.505000</td>\n",
       "      <td>0.000000</td>\n",
       "      <td>0.000000</td>\n",
       "      <td>0.000000</td>\n",
       "      <td>0.000000</td>\n",
       "    </tr>\n",
       "    <tr>\n",
       "      <th>5</th>\n",
       "      <td>5</td>\n",
       "      <td>Dual Joss-Ann Tit For Tat</td>\n",
       "      <td>2.973333</td>\n",
       "      <td>0.220833</td>\n",
       "      <td>12.0</td>\n",
       "      <td>0.000000</td>\n",
       "      <td>0.095833</td>\n",
       "      <td>0.125000</td>\n",
       "      <td>0.476667</td>\n",
       "      <td>0.302500</td>\n",
       "      <td>0.000000</td>\n",
       "      <td>0.507385</td>\n",
       "      <td>0.000000</td>\n",
       "      <td>0.545434</td>\n",
       "    </tr>\n",
       "    <tr>\n",
       "      <th>6</th>\n",
       "      <td>6</td>\n",
       "      <td>Dual Joss-Ann Tit For Tat</td>\n",
       "      <td>2.918056</td>\n",
       "      <td>0.302222</td>\n",
       "      <td>14.0</td>\n",
       "      <td>0.000000</td>\n",
       "      <td>0.138611</td>\n",
       "      <td>0.163611</td>\n",
       "      <td>0.451111</td>\n",
       "      <td>0.246667</td>\n",
       "      <td>0.000000</td>\n",
       "      <td>0.761312</td>\n",
       "      <td>0.000000</td>\n",
       "      <td>0.715732</td>\n",
       "    </tr>\n",
       "    <tr>\n",
       "      <th>7</th>\n",
       "      <td>7</td>\n",
       "      <td>Joss-Ann Tit For Tat</td>\n",
       "      <td>2.639167</td>\n",
       "      <td>0.116389</td>\n",
       "      <td>15.0</td>\n",
       "      <td>0.277778</td>\n",
       "      <td>0.070000</td>\n",
       "      <td>0.046389</td>\n",
       "      <td>0.386389</td>\n",
       "      <td>0.497222</td>\n",
       "      <td>0.252822</td>\n",
       "      <td>0.000000</td>\n",
       "      <td>0.272340</td>\n",
       "      <td>0.000000</td>\n",
       "    </tr>\n",
       "    <tr>\n",
       "      <th>8</th>\n",
       "      <td>8</td>\n",
       "      <td>Dual Joss-Ann Tit For Tat</td>\n",
       "      <td>2.591944</td>\n",
       "      <td>0.261111</td>\n",
       "      <td>13.0</td>\n",
       "      <td>0.166667</td>\n",
       "      <td>0.135833</td>\n",
       "      <td>0.125278</td>\n",
       "      <td>0.361389</td>\n",
       "      <td>0.377500</td>\n",
       "      <td>0.293046</td>\n",
       "      <td>0.234832</td>\n",
       "      <td>0.265814</td>\n",
       "      <td>0.250068</td>\n",
       "    </tr>\n",
       "    <tr>\n",
       "      <th>9</th>\n",
       "      <td>9</td>\n",
       "      <td>Dual Joss-Ann Tit For Tat</td>\n",
       "      <td>2.475278</td>\n",
       "      <td>0.377500</td>\n",
       "      <td>14.0</td>\n",
       "      <td>0.222222</td>\n",
       "      <td>0.183889</td>\n",
       "      <td>0.193611</td>\n",
       "      <td>0.325278</td>\n",
       "      <td>0.297222</td>\n",
       "      <td>0.255551</td>\n",
       "      <td>0.487511</td>\n",
       "      <td>0.259831</td>\n",
       "      <td>0.500475</td>\n",
       "    </tr>\n",
       "  </tbody>\n",
       "</table>\n",
       "</div>"
      ],
      "text/plain": [
       "   Rank                       Name  Median_score  Cooperation_rating  Wins  \\\n",
       "0     0                   Defector      3.017600            0.000000  23.0   \n",
       "1     1  Dual Joss-Ann Tit For Tat      3.016389            0.110556  14.0   \n",
       "2     2                   Defector      3.016000            0.000000  22.0   \n",
       "3     3  Dual Joss-Ann Tit For Tat      3.000000            0.000000  15.0   \n",
       "4     4                   Defector      2.980000            0.000000  23.0   \n",
       "5     5  Dual Joss-Ann Tit For Tat      2.973333            0.220833  12.0   \n",
       "6     6  Dual Joss-Ann Tit For Tat      2.918056            0.302222  14.0   \n",
       "7     7       Joss-Ann Tit For Tat      2.639167            0.116389  15.0   \n",
       "8     8  Dual Joss-Ann Tit For Tat      2.591944            0.261111  13.0   \n",
       "9     9  Dual Joss-Ann Tit For Tat      2.475278            0.377500  14.0   \n",
       "\n",
       "   Initial_C_rate   CC_rate   CD_rate   DC_rate   DD_rate  CC_to_C_rate  \\\n",
       "0        0.000000  0.000000  0.000000  0.504400  0.495600      0.000000   \n",
       "1        0.000000  0.041944  0.068611  0.500278  0.389167      0.000000   \n",
       "2        0.000000  0.000000  0.000000  0.504000  0.496000      0.000000   \n",
       "3        0.000000  0.000000  0.000000  0.500000  0.500000      0.000000   \n",
       "4        0.000000  0.000000  0.000000  0.495000  0.505000      0.000000   \n",
       "5        0.000000  0.095833  0.125000  0.476667  0.302500      0.000000   \n",
       "6        0.000000  0.138611  0.163611  0.451111  0.246667      0.000000   \n",
       "7        0.277778  0.070000  0.046389  0.386389  0.497222      0.252822   \n",
       "8        0.166667  0.135833  0.125278  0.361389  0.377500      0.293046   \n",
       "9        0.222222  0.183889  0.193611  0.325278  0.297222      0.255551   \n",
       "\n",
       "   CD_to_C_rate  DC_to_C_rate  DD_to_C_rate  \n",
       "0      0.000000      0.000000      0.000000  \n",
       "1      0.230004      0.000000      0.280903  \n",
       "2      0.000000      0.000000      0.000000  \n",
       "3      0.000000      0.000000      0.000000  \n",
       "4      0.000000      0.000000      0.000000  \n",
       "5      0.507385      0.000000      0.545434  \n",
       "6      0.761312      0.000000      0.715732  \n",
       "7      0.000000      0.272340      0.000000  \n",
       "8      0.234832      0.265814      0.250068  \n",
       "9      0.487511      0.259831      0.500475  "
      ]
     },
     "execution_count": 3,
     "metadata": {},
     "output_type": "execute_result"
    }
   ],
   "source": [
    "test_df = create_test_df(strategies)\n",
    "test_df.head(10)"
   ]
  },
  {
   "cell_type": "code",
   "execution_count": 4,
   "metadata": {
    "collapsed": false
   },
   "outputs": [
    {
     "data": {
      "text/html": [
       "<div>\n",
       "<table border=\"1\" class=\"dataframe\">\n",
       "  <thead>\n",
       "    <tr style=\"text-align: right;\">\n",
       "      <th></th>\n",
       "      <th>Name</th>\n",
       "      <th>Median_score</th>\n",
       "      <th>Cooperation_rating</th>\n",
       "      <th>Wins</th>\n",
       "      <th>Initial_C_rate</th>\n",
       "      <th>CC_rate</th>\n",
       "      <th>CD_rate</th>\n",
       "      <th>DC_rate</th>\n",
       "      <th>DD_rate</th>\n",
       "      <th>CC_to_C_rate</th>\n",
       "      <th>CD_to_C_rate</th>\n",
       "      <th>DC_to_C_rate</th>\n",
       "      <th>DD_to_C_rate</th>\n",
       "    </tr>\n",
       "  </thead>\n",
       "  <tbody>\n",
       "    <tr>\n",
       "      <th>0</th>\n",
       "      <td>Defector</td>\n",
       "      <td>0.60352</td>\n",
       "      <td>0.0000</td>\n",
       "      <td>23.0</td>\n",
       "      <td>0.0</td>\n",
       "      <td>0.0000</td>\n",
       "      <td>0.0000</td>\n",
       "      <td>0.5044</td>\n",
       "      <td>0.4956</td>\n",
       "      <td>0.0</td>\n",
       "      <td>0.0</td>\n",
       "      <td>0.0</td>\n",
       "      <td>0.0</td>\n",
       "    </tr>\n",
       "    <tr>\n",
       "      <th>2</th>\n",
       "      <td>Defector</td>\n",
       "      <td>0.60320</td>\n",
       "      <td>0.0000</td>\n",
       "      <td>22.0</td>\n",
       "      <td>0.0</td>\n",
       "      <td>0.0000</td>\n",
       "      <td>0.0000</td>\n",
       "      <td>0.5040</td>\n",
       "      <td>0.4960</td>\n",
       "      <td>0.0</td>\n",
       "      <td>0.0</td>\n",
       "      <td>0.0</td>\n",
       "      <td>0.0</td>\n",
       "    </tr>\n",
       "    <tr>\n",
       "      <th>4</th>\n",
       "      <td>Defector</td>\n",
       "      <td>0.59600</td>\n",
       "      <td>0.0000</td>\n",
       "      <td>23.0</td>\n",
       "      <td>0.0</td>\n",
       "      <td>0.0000</td>\n",
       "      <td>0.0000</td>\n",
       "      <td>0.4950</td>\n",
       "      <td>0.5050</td>\n",
       "      <td>0.0</td>\n",
       "      <td>0.0</td>\n",
       "      <td>0.0</td>\n",
       "      <td>0.0</td>\n",
       "    </tr>\n",
       "    <tr>\n",
       "      <th>13</th>\n",
       "      <td>Win-Stay Lose-Shift</td>\n",
       "      <td>0.47512</td>\n",
       "      <td>0.5490</td>\n",
       "      <td>8.0</td>\n",
       "      <td>1.0</td>\n",
       "      <td>0.3298</td>\n",
       "      <td>0.2192</td>\n",
       "      <td>0.2338</td>\n",
       "      <td>0.2172</td>\n",
       "      <td>1.0</td>\n",
       "      <td>0.0</td>\n",
       "      <td>0.0</td>\n",
       "      <td>1.0</td>\n",
       "    </tr>\n",
       "    <tr>\n",
       "      <th>15</th>\n",
       "      <td>Bully</td>\n",
       "      <td>0.47328</td>\n",
       "      <td>0.4918</td>\n",
       "      <td>12.0</td>\n",
       "      <td>0.0</td>\n",
       "      <td>0.1658</td>\n",
       "      <td>0.3260</td>\n",
       "      <td>0.3402</td>\n",
       "      <td>0.1680</td>\n",
       "      <td>0.0</td>\n",
       "      <td>1.0</td>\n",
       "      <td>0.0</td>\n",
       "      <td>1.0</td>\n",
       "    </tr>\n",
       "    <tr>\n",
       "      <th>16</th>\n",
       "      <td>Bully</td>\n",
       "      <td>0.47128</td>\n",
       "      <td>0.4944</td>\n",
       "      <td>13.0</td>\n",
       "      <td>0.0</td>\n",
       "      <td>0.1620</td>\n",
       "      <td>0.3324</td>\n",
       "      <td>0.3412</td>\n",
       "      <td>0.1644</td>\n",
       "      <td>0.0</td>\n",
       "      <td>1.0</td>\n",
       "      <td>0.0</td>\n",
       "      <td>1.0</td>\n",
       "    </tr>\n",
       "    <tr>\n",
       "      <th>17</th>\n",
       "      <td>Bully</td>\n",
       "      <td>0.47004</td>\n",
       "      <td>0.4958</td>\n",
       "      <td>11.0</td>\n",
       "      <td>0.0</td>\n",
       "      <td>0.1628</td>\n",
       "      <td>0.3330</td>\n",
       "      <td>0.3394</td>\n",
       "      <td>0.1648</td>\n",
       "      <td>0.0</td>\n",
       "      <td>1.0</td>\n",
       "      <td>0.0</td>\n",
       "      <td>1.0</td>\n",
       "    </tr>\n",
       "    <tr>\n",
       "      <th>18</th>\n",
       "      <td>Win-Stay Lose-Shift</td>\n",
       "      <td>0.46924</td>\n",
       "      <td>0.5462</td>\n",
       "      <td>8.0</td>\n",
       "      <td>1.0</td>\n",
       "      <td>0.3220</td>\n",
       "      <td>0.2242</td>\n",
       "      <td>0.2316</td>\n",
       "      <td>0.2222</td>\n",
       "      <td>1.0</td>\n",
       "      <td>0.0</td>\n",
       "      <td>0.0</td>\n",
       "      <td>1.0</td>\n",
       "    </tr>\n",
       "    <tr>\n",
       "      <th>19</th>\n",
       "      <td>Win-Stay Lose-Shift</td>\n",
       "      <td>0.46640</td>\n",
       "      <td>0.5488</td>\n",
       "      <td>7.0</td>\n",
       "      <td>1.0</td>\n",
       "      <td>0.3232</td>\n",
       "      <td>0.2256</td>\n",
       "      <td>0.2278</td>\n",
       "      <td>0.2234</td>\n",
       "      <td>1.0</td>\n",
       "      <td>0.0</td>\n",
       "      <td>0.0</td>\n",
       "      <td>1.0</td>\n",
       "    </tr>\n",
       "    <tr>\n",
       "      <th>22</th>\n",
       "      <td>Alternator</td>\n",
       "      <td>0.45100</td>\n",
       "      <td>0.5000</td>\n",
       "      <td>13.0</td>\n",
       "      <td>1.0</td>\n",
       "      <td>0.2538</td>\n",
       "      <td>0.2462</td>\n",
       "      <td>0.2484</td>\n",
       "      <td>0.2516</td>\n",
       "      <td>0.0</td>\n",
       "      <td>0.0</td>\n",
       "      <td>1.0</td>\n",
       "      <td>1.0</td>\n",
       "    </tr>\n",
       "  </tbody>\n",
       "</table>\n",
       "</div>"
      ],
      "text/plain": [
       "                   Name  Median_score  Cooperation_rating  Wins  \\\n",
       "0              Defector       0.60352              0.0000  23.0   \n",
       "2              Defector       0.60320              0.0000  22.0   \n",
       "4              Defector       0.59600              0.0000  23.0   \n",
       "13  Win-Stay Lose-Shift       0.47512              0.5490   8.0   \n",
       "15                Bully       0.47328              0.4918  12.0   \n",
       "16                Bully       0.47128              0.4944  13.0   \n",
       "17                Bully       0.47004              0.4958  11.0   \n",
       "18  Win-Stay Lose-Shift       0.46924              0.5462   8.0   \n",
       "19  Win-Stay Lose-Shift       0.46640              0.5488   7.0   \n",
       "22           Alternator       0.45100              0.5000  13.0   \n",
       "\n",
       "    Initial_C_rate  CC_rate  CD_rate  DC_rate  DD_rate  CC_to_C_rate  \\\n",
       "0              0.0   0.0000   0.0000   0.5044   0.4956           0.0   \n",
       "2              0.0   0.0000   0.0000   0.5040   0.4960           0.0   \n",
       "4              0.0   0.0000   0.0000   0.4950   0.5050           0.0   \n",
       "13             1.0   0.3298   0.2192   0.2338   0.2172           1.0   \n",
       "15             0.0   0.1658   0.3260   0.3402   0.1680           0.0   \n",
       "16             0.0   0.1620   0.3324   0.3412   0.1644           0.0   \n",
       "17             0.0   0.1628   0.3330   0.3394   0.1648           0.0   \n",
       "18             1.0   0.3220   0.2242   0.2316   0.2222           1.0   \n",
       "19             1.0   0.3232   0.2256   0.2278   0.2234           1.0   \n",
       "22             1.0   0.2538   0.2462   0.2484   0.2516           0.0   \n",
       "\n",
       "    CD_to_C_rate  DC_to_C_rate  DD_to_C_rate  \n",
       "0            0.0           0.0           0.0  \n",
       "2            0.0           0.0           0.0  \n",
       "4            0.0           0.0           0.0  \n",
       "13           0.0           0.0           1.0  \n",
       "15           1.0           0.0           1.0  \n",
       "16           1.0           0.0           1.0  \n",
       "17           1.0           0.0           1.0  \n",
       "18           0.0           0.0           1.0  \n",
       "19           0.0           0.0           1.0  \n",
       "22           0.0           1.0           1.0  "
      ]
     },
     "execution_count": 4,
     "metadata": {},
     "output_type": "execute_result"
    }
   ],
   "source": [
    "cleaned_test_df = clean_test_df(test_df)\n",
    "cleaned_test_df.head(10)"
   ]
  },
  {
   "cell_type": "code",
   "execution_count": 5,
   "metadata": {
    "collapsed": false
   },
   "outputs": [
    {
     "data": {
      "text/html": [
       "<div>\n",
       "<table border=\"1\" class=\"dataframe\">\n",
       "  <thead>\n",
       "    <tr style=\"text-align: right;\">\n",
       "      <th></th>\n",
       "      <th>Equivalent</th>\n",
       "      <th>CC_rate_r</th>\n",
       "      <th>CD_rate_r</th>\n",
       "      <th>DC_rate_r</th>\n",
       "      <th>DD_rate_r</th>\n",
       "      <th>CC_to_C_r</th>\n",
       "      <th>CD_to_C_r</th>\n",
       "      <th>DC_to_C_r</th>\n",
       "      <th>DD_to_C_r</th>\n",
       "      <th>Cooperation_rating_r</th>\n",
       "      <th>Initial_C_rate_r</th>\n",
       "      <th>Median_score_r</th>\n",
       "      <th>Wins_r</th>\n",
       "    </tr>\n",
       "  </thead>\n",
       "  <tbody>\n",
       "    <tr>\n",
       "      <th>0</th>\n",
       "      <td>1</td>\n",
       "      <td>1.0</td>\n",
       "      <td>1.0</td>\n",
       "      <td>1.000000</td>\n",
       "      <td>1.000000</td>\n",
       "      <td>1.0</td>\n",
       "      <td>1.0</td>\n",
       "      <td>1.0</td>\n",
       "      <td>1.0</td>\n",
       "      <td>1.0</td>\n",
       "      <td>1.0</td>\n",
       "      <td>1.000000</td>\n",
       "      <td>1.000000</td>\n",
       "    </tr>\n",
       "    <tr>\n",
       "      <th>1</th>\n",
       "      <td>1</td>\n",
       "      <td>1.0</td>\n",
       "      <td>1.0</td>\n",
       "      <td>0.999207</td>\n",
       "      <td>0.999194</td>\n",
       "      <td>1.0</td>\n",
       "      <td>1.0</td>\n",
       "      <td>1.0</td>\n",
       "      <td>1.0</td>\n",
       "      <td>1.0</td>\n",
       "      <td>1.0</td>\n",
       "      <td>0.999470</td>\n",
       "      <td>0.956522</td>\n",
       "    </tr>\n",
       "    <tr>\n",
       "      <th>2</th>\n",
       "      <td>1</td>\n",
       "      <td>1.0</td>\n",
       "      <td>1.0</td>\n",
       "      <td>0.981364</td>\n",
       "      <td>0.981386</td>\n",
       "      <td>1.0</td>\n",
       "      <td>1.0</td>\n",
       "      <td>1.0</td>\n",
       "      <td>1.0</td>\n",
       "      <td>1.0</td>\n",
       "      <td>1.0</td>\n",
       "      <td>0.987540</td>\n",
       "      <td>1.000000</td>\n",
       "    </tr>\n",
       "    <tr>\n",
       "      <th>3</th>\n",
       "      <td>0</td>\n",
       "      <td>0.0</td>\n",
       "      <td>0.0</td>\n",
       "      <td>0.463521</td>\n",
       "      <td>0.438257</td>\n",
       "      <td>0.0</td>\n",
       "      <td>1.0</td>\n",
       "      <td>1.0</td>\n",
       "      <td>0.0</td>\n",
       "      <td>0.0</td>\n",
       "      <td>0.0</td>\n",
       "      <td>0.787248</td>\n",
       "      <td>0.347826</td>\n",
       "    </tr>\n",
       "    <tr>\n",
       "      <th>4</th>\n",
       "      <td>0</td>\n",
       "      <td>0.0</td>\n",
       "      <td>0.0</td>\n",
       "      <td>0.674465</td>\n",
       "      <td>0.338983</td>\n",
       "      <td>1.0</td>\n",
       "      <td>0.0</td>\n",
       "      <td>1.0</td>\n",
       "      <td>0.0</td>\n",
       "      <td>0.0</td>\n",
       "      <td>1.0</td>\n",
       "      <td>0.784199</td>\n",
       "      <td>0.521739</td>\n",
       "    </tr>\n",
       "    <tr>\n",
       "      <th>5</th>\n",
       "      <td>0</td>\n",
       "      <td>0.0</td>\n",
       "      <td>0.0</td>\n",
       "      <td>0.676447</td>\n",
       "      <td>0.331719</td>\n",
       "      <td>1.0</td>\n",
       "      <td>0.0</td>\n",
       "      <td>1.0</td>\n",
       "      <td>0.0</td>\n",
       "      <td>0.0</td>\n",
       "      <td>1.0</td>\n",
       "      <td>0.780885</td>\n",
       "      <td>0.565217</td>\n",
       "    </tr>\n",
       "    <tr>\n",
       "      <th>6</th>\n",
       "      <td>0</td>\n",
       "      <td>0.0</td>\n",
       "      <td>0.0</td>\n",
       "      <td>0.672879</td>\n",
       "      <td>0.332526</td>\n",
       "      <td>1.0</td>\n",
       "      <td>0.0</td>\n",
       "      <td>1.0</td>\n",
       "      <td>0.0</td>\n",
       "      <td>0.0</td>\n",
       "      <td>1.0</td>\n",
       "      <td>0.778831</td>\n",
       "      <td>0.478261</td>\n",
       "    </tr>\n",
       "    <tr>\n",
       "      <th>7</th>\n",
       "      <td>0</td>\n",
       "      <td>0.0</td>\n",
       "      <td>0.0</td>\n",
       "      <td>0.459159</td>\n",
       "      <td>0.448345</td>\n",
       "      <td>0.0</td>\n",
       "      <td>1.0</td>\n",
       "      <td>1.0</td>\n",
       "      <td>0.0</td>\n",
       "      <td>0.0</td>\n",
       "      <td>0.0</td>\n",
       "      <td>0.777505</td>\n",
       "      <td>0.347826</td>\n",
       "    </tr>\n",
       "    <tr>\n",
       "      <th>8</th>\n",
       "      <td>0</td>\n",
       "      <td>0.0</td>\n",
       "      <td>0.0</td>\n",
       "      <td>0.451626</td>\n",
       "      <td>0.450767</td>\n",
       "      <td>0.0</td>\n",
       "      <td>1.0</td>\n",
       "      <td>1.0</td>\n",
       "      <td>0.0</td>\n",
       "      <td>0.0</td>\n",
       "      <td>0.0</td>\n",
       "      <td>0.772800</td>\n",
       "      <td>0.304348</td>\n",
       "    </tr>\n",
       "    <tr>\n",
       "      <th>9</th>\n",
       "      <td>0</td>\n",
       "      <td>0.0</td>\n",
       "      <td>0.0</td>\n",
       "      <td>0.492466</td>\n",
       "      <td>0.507667</td>\n",
       "      <td>1.0</td>\n",
       "      <td>1.0</td>\n",
       "      <td>0.0</td>\n",
       "      <td>0.0</td>\n",
       "      <td>0.0</td>\n",
       "      <td>0.0</td>\n",
       "      <td>0.747283</td>\n",
       "      <td>0.565217</td>\n",
       "    </tr>\n",
       "  </tbody>\n",
       "</table>\n",
       "</div>"
      ],
      "text/plain": [
       "   Equivalent  CC_rate_r  CD_rate_r  DC_rate_r  DD_rate_r  CC_to_C_r  \\\n",
       "0           1        1.0        1.0   1.000000   1.000000        1.0   \n",
       "1           1        1.0        1.0   0.999207   0.999194        1.0   \n",
       "2           1        1.0        1.0   0.981364   0.981386        1.0   \n",
       "3           0        0.0        0.0   0.463521   0.438257        0.0   \n",
       "4           0        0.0        0.0   0.674465   0.338983        1.0   \n",
       "5           0        0.0        0.0   0.676447   0.331719        1.0   \n",
       "6           0        0.0        0.0   0.672879   0.332526        1.0   \n",
       "7           0        0.0        0.0   0.459159   0.448345        0.0   \n",
       "8           0        0.0        0.0   0.451626   0.450767        0.0   \n",
       "9           0        0.0        0.0   0.492466   0.507667        1.0   \n",
       "\n",
       "   CD_to_C_r  DC_to_C_r  DD_to_C_r  Cooperation_rating_r  Initial_C_rate_r  \\\n",
       "0        1.0        1.0        1.0                   1.0               1.0   \n",
       "1        1.0        1.0        1.0                   1.0               1.0   \n",
       "2        1.0        1.0        1.0                   1.0               1.0   \n",
       "3        1.0        1.0        0.0                   0.0               0.0   \n",
       "4        0.0        1.0        0.0                   0.0               1.0   \n",
       "5        0.0        1.0        0.0                   0.0               1.0   \n",
       "6        0.0        1.0        0.0                   0.0               1.0   \n",
       "7        1.0        1.0        0.0                   0.0               0.0   \n",
       "8        1.0        1.0        0.0                   0.0               0.0   \n",
       "9        1.0        0.0        0.0                   0.0               0.0   \n",
       "\n",
       "   Median_score_r    Wins_r  \n",
       "0        1.000000  1.000000  \n",
       "1        0.999470  0.956522  \n",
       "2        0.987540  1.000000  \n",
       "3        0.787248  0.347826  \n",
       "4        0.784199  0.521739  \n",
       "5        0.780885  0.565217  \n",
       "6        0.778831  0.478261  \n",
       "7        0.777505  0.347826  \n",
       "8        0.772800  0.304348  \n",
       "9        0.747283  0.565217  "
      ]
     },
     "execution_count": 5,
     "metadata": {},
     "output_type": "execute_result"
    }
   ],
   "source": [
    "training_df = create_large_df(cleaned_test_df)\n",
    "training_df.head(10)"
   ]
  },
  {
   "cell_type": "code",
   "execution_count": 6,
   "metadata": {
    "collapsed": false
   },
   "outputs": [],
   "source": [
    "training_data = training_df.copy()\n",
    "training_data.drop('Equivalent', axis=1, inplace=True)\n",
    "equivalent = training_df['Equivalent']"
   ]
  },
  {
   "cell_type": "code",
   "execution_count": 7,
   "metadata": {
    "collapsed": false
   },
   "outputs": [],
   "source": [
    "from sklearn.linear_model import LogisticRegression\n",
    "from sklearn import svm\n",
    "from sklearn.metrics import confusion_matrix, auc, roc_curve\n",
    "import seaborn as sns\n",
    "import itertools\n",
    "import matplotlib.pyplot as plt\n"
   ]
  },
  {
   "cell_type": "code",
   "execution_count": 9,
   "metadata": {
    "collapsed": false
   },
   "outputs": [
    {
     "name": "stdout",
     "output_type": "stream",
     "text": [
      "1.0\n",
      "[ 0.98438302  1.09988768  0.81742684  1.03716846  1.26791159  1.20338712\n",
      "  1.69349605  0.83666682 -0.42125129  0.22386542 -3.1583928   1.34823112]\n",
      "[1 1 1 0 0 0 0 0 0 0 0 0 0 0 0 0 0 0 1 1 1 0 0 0 0 0 0 0 0 0 0 0 0 0 0 0 1\n",
      " 1 1 0 0 0 0 0 0 0 0 0 0 0 0 0 0 0 0 0 0 1 0 0 0 1 1 0 0 0 0 0 0 0 0 0 0 0\n",
      " 0 0 1 1 1 0 0 0 0 0 0 0 0 0 0 0 0 0 0 0 1 1 1 0 0 0 0 0 0 0 0 0 0 0 0 0 0\n",
      " 0 1 1 1 0 0 0 0 0 0 0 0 0 0 0 0 0 0 1 0 0 0 1 1 0 0 0 0 0 0 0 0 0 0 0 0 1\n",
      " 0 0 0 1 1 0 0 0 0 0 0 0 0 0 0 0 0 0 0 0 0 0 0 1 1 1 0 0 0 0 0 0 0 0 0 0 0\n",
      " 0 0 0 0 1 1 1 0 0 0 0 0 0 0 0 0 0 0 0 0 0 0 1 1 1 0 0 0 0 0 0 0 0 0 0 0 0\n",
      " 0 0 0 0 0 0 1 1 1 0 0 0 0 0 0 0 0 0 0 0 0 0 0 0 1 1 1 0 0 0 0 0 0 0 0 0 0\n",
      " 0 0 0 0 0 1 1 1 0 0 0 0 0 0 0 0 0 0 0 0 0 0 0 0 0 0 1 1 1 0 0 0 0 0 0 0 0\n",
      " 0 0 0 0 0 0 0 1 1 1 0 0 0 0 0 0 0 0 0 0 0 0 0 0 0 1 1 1]\n",
      "[-5.03880286]\n"
     ]
    },
    {
     "data": {
      "text/html": [
       "<div>\n",
       "<table border=\"1\" class=\"dataframe\">\n",
       "  <thead>\n",
       "    <tr style=\"text-align: right;\">\n",
       "      <th></th>\n",
       "      <th>0</th>\n",
       "      <th>1</th>\n",
       "    </tr>\n",
       "  </thead>\n",
       "  <tbody>\n",
       "    <tr>\n",
       "      <th>0</th>\n",
       "      <td>CC_rate_r</td>\n",
       "      <td>[0.984383024939]</td>\n",
       "    </tr>\n",
       "    <tr>\n",
       "      <th>1</th>\n",
       "      <td>CD_rate_r</td>\n",
       "      <td>[1.09988768324]</td>\n",
       "    </tr>\n",
       "    <tr>\n",
       "      <th>2</th>\n",
       "      <td>DC_rate_r</td>\n",
       "      <td>[0.817426842024]</td>\n",
       "    </tr>\n",
       "    <tr>\n",
       "      <th>3</th>\n",
       "      <td>DD_rate_r</td>\n",
       "      <td>[1.03716846243]</td>\n",
       "    </tr>\n",
       "    <tr>\n",
       "      <th>4</th>\n",
       "      <td>CC_to_C_r</td>\n",
       "      <td>[1.26791158928]</td>\n",
       "    </tr>\n",
       "    <tr>\n",
       "      <th>5</th>\n",
       "      <td>CD_to_C_r</td>\n",
       "      <td>[1.20338712181]</td>\n",
       "    </tr>\n",
       "    <tr>\n",
       "      <th>6</th>\n",
       "      <td>DC_to_C_r</td>\n",
       "      <td>[1.69349605214]</td>\n",
       "    </tr>\n",
       "    <tr>\n",
       "      <th>7</th>\n",
       "      <td>DD_to_C_r</td>\n",
       "      <td>[0.836666818637]</td>\n",
       "    </tr>\n",
       "    <tr>\n",
       "      <th>8</th>\n",
       "      <td>Cooperation_rating_r</td>\n",
       "      <td>[-0.421251290708]</td>\n",
       "    </tr>\n",
       "    <tr>\n",
       "      <th>9</th>\n",
       "      <td>Initial_C_rate_r</td>\n",
       "      <td>[0.223865419165]</td>\n",
       "    </tr>\n",
       "    <tr>\n",
       "      <th>10</th>\n",
       "      <td>Median_score_r</td>\n",
       "      <td>[-3.15839279885]</td>\n",
       "    </tr>\n",
       "    <tr>\n",
       "      <th>11</th>\n",
       "      <td>Wins_r</td>\n",
       "      <td>[1.34823111811]</td>\n",
       "    </tr>\n",
       "  </tbody>\n",
       "</table>\n",
       "</div>"
      ],
      "text/plain": [
       "                       0                  1\n",
       "0              CC_rate_r   [0.984383024939]\n",
       "1              CD_rate_r    [1.09988768324]\n",
       "2              DC_rate_r   [0.817426842024]\n",
       "3              DD_rate_r    [1.03716846243]\n",
       "4              CC_to_C_r    [1.26791158928]\n",
       "5              CD_to_C_r    [1.20338712181]\n",
       "6              DC_to_C_r    [1.69349605214]\n",
       "7              DD_to_C_r   [0.836666818637]\n",
       "8   Cooperation_rating_r  [-0.421251290708]\n",
       "9       Initial_C_rate_r   [0.223865419165]\n",
       "10        Median_score_r   [-3.15839279885]\n",
       "11                Wins_r    [1.34823111811]"
      ]
     },
     "execution_count": 9,
     "metadata": {},
     "output_type": "execute_result"
    }
   ],
   "source": [
    "log_model = LogisticRegression()\n",
    "log_model.fit(X=training_data, y=equivalent)\n",
    "print(log_model.score(X=training_data, y=equivalent))\n",
    "cooeffictients = log_model.coef_[0]\n",
    "print(cooeffictients)\n",
    "print(log_model.predict(training_data))\n",
    "print(log_model.intercept_)\n",
    "pd.DataFrame(list(zip(training_data.columns, np.transpose(log_model.coef_))))\n"
   ]
  },
  {
   "cell_type": "code",
   "execution_count": null,
   "metadata": {
    "collapsed": false
   },
   "outputs": [],
   "source": [
    "from math import exp\n",
    "print(sum(log_model.coef_[0]))\n",
    "print(exp(-4.5 + sum(cooeffictients)))\n",
    "print(3.28/4.28)\n",
    "exp(-4.5 + sum(cooeffictients)) / (1 + exp(-4.5 + sum(cooeffictients)))"
   ]
  },
  {
   "cell_type": "code",
   "execution_count": 10,
   "metadata": {
    "collapsed": false
   },
   "outputs": [
    {
     "data": {
      "text/html": [
       "<div>\n",
       "<table border=\"1\" class=\"dataframe\">\n",
       "  <thead>\n",
       "    <tr style=\"text-align: right;\">\n",
       "      <th></th>\n",
       "      <th>Equivalent</th>\n",
       "      <th>CC_rate_r</th>\n",
       "      <th>CD_rate_r</th>\n",
       "      <th>DC_rate_r</th>\n",
       "      <th>DD_rate_r</th>\n",
       "      <th>Cooperation_rating_r</th>\n",
       "      <th>Initial_C_rate_r</th>\n",
       "      <th>Median_score_r</th>\n",
       "      <th>Wins_r</th>\n",
       "    </tr>\n",
       "  </thead>\n",
       "  <tbody>\n",
       "    <tr>\n",
       "      <th>0</th>\n",
       "      <td>1</td>\n",
       "      <td>1.000000</td>\n",
       "      <td>1.000000</td>\n",
       "      <td>1.000000</td>\n",
       "      <td>1.000000</td>\n",
       "      <td>1.000000</td>\n",
       "      <td>1.0</td>\n",
       "      <td>1.000000</td>\n",
       "      <td>1.000000</td>\n",
       "    </tr>\n",
       "    <tr>\n",
       "      <th>1</th>\n",
       "      <td>0</td>\n",
       "      <td>0.946276</td>\n",
       "      <td>0.727344</td>\n",
       "      <td>0.870842</td>\n",
       "      <td>0.958269</td>\n",
       "      <td>0.975134</td>\n",
       "      <td>1.0</td>\n",
       "      <td>0.998891</td>\n",
       "      <td>0.857143</td>\n",
       "    </tr>\n",
       "    <tr>\n",
       "      <th>2</th>\n",
       "      <td>0</td>\n",
       "      <td>0.952221</td>\n",
       "      <td>0.967528</td>\n",
       "      <td>0.927687</td>\n",
       "      <td>0.898924</td>\n",
       "      <td>0.959943</td>\n",
       "      <td>1.0</td>\n",
       "      <td>0.998245</td>\n",
       "      <td>0.857143</td>\n",
       "    </tr>\n",
       "    <tr>\n",
       "      <th>3</th>\n",
       "      <td>0</td>\n",
       "      <td>0.946638</td>\n",
       "      <td>0.742380</td>\n",
       "      <td>0.897783</td>\n",
       "      <td>0.921533</td>\n",
       "      <td>0.984648</td>\n",
       "      <td>1.0</td>\n",
       "      <td>0.997280</td>\n",
       "      <td>0.844828</td>\n",
       "    </tr>\n",
       "    <tr>\n",
       "      <th>4</th>\n",
       "      <td>0</td>\n",
       "      <td>0.943635</td>\n",
       "      <td>0.202614</td>\n",
       "      <td>0.792575</td>\n",
       "      <td>0.703270</td>\n",
       "      <td>0.978363</td>\n",
       "      <td>1.0</td>\n",
       "      <td>0.993334</td>\n",
       "      <td>0.877551</td>\n",
       "    </tr>\n",
       "    <tr>\n",
       "      <th>5</th>\n",
       "      <td>0</td>\n",
       "      <td>0.940148</td>\n",
       "      <td>0.177134</td>\n",
       "      <td>0.781710</td>\n",
       "      <td>0.698685</td>\n",
       "      <td>0.979501</td>\n",
       "      <td>1.0</td>\n",
       "      <td>0.993093</td>\n",
       "      <td>0.877551</td>\n",
       "    </tr>\n",
       "    <tr>\n",
       "      <th>6</th>\n",
       "      <td>0</td>\n",
       "      <td>0.944300</td>\n",
       "      <td>0.316919</td>\n",
       "      <td>0.785937</td>\n",
       "      <td>0.727635</td>\n",
       "      <td>0.988539</td>\n",
       "      <td>1.0</td>\n",
       "      <td>0.988724</td>\n",
       "      <td>0.816327</td>\n",
       "    </tr>\n",
       "    <tr>\n",
       "      <th>7</th>\n",
       "      <td>0</td>\n",
       "      <td>0.987571</td>\n",
       "      <td>0.538941</td>\n",
       "      <td>0.863792</td>\n",
       "      <td>0.725029</td>\n",
       "      <td>0.967621</td>\n",
       "      <td>1.0</td>\n",
       "      <td>0.982518</td>\n",
       "      <td>0.918367</td>\n",
       "    </tr>\n",
       "    <tr>\n",
       "      <th>8</th>\n",
       "      <td>0</td>\n",
       "      <td>0.958140</td>\n",
       "      <td>0.634307</td>\n",
       "      <td>0.816060</td>\n",
       "      <td>0.807026</td>\n",
       "      <td>0.995198</td>\n",
       "      <td>1.0</td>\n",
       "      <td>0.982216</td>\n",
       "      <td>0.897959</td>\n",
       "    </tr>\n",
       "    <tr>\n",
       "      <th>9</th>\n",
       "      <td>0</td>\n",
       "      <td>0.990236</td>\n",
       "      <td>0.623176</td>\n",
       "      <td>0.936557</td>\n",
       "      <td>0.718809</td>\n",
       "      <td>0.937797</td>\n",
       "      <td>1.0</td>\n",
       "      <td>0.975044</td>\n",
       "      <td>0.795918</td>\n",
       "    </tr>\n",
       "  </tbody>\n",
       "</table>\n",
       "</div>"
      ],
      "text/plain": [
       "   Equivalent  CC_rate_r  CD_rate_r  DC_rate_r  DD_rate_r  \\\n",
       "0           1   1.000000   1.000000   1.000000   1.000000   \n",
       "1           0   0.946276   0.727344   0.870842   0.958269   \n",
       "2           0   0.952221   0.967528   0.927687   0.898924   \n",
       "3           0   0.946638   0.742380   0.897783   0.921533   \n",
       "4           0   0.943635   0.202614   0.792575   0.703270   \n",
       "5           0   0.940148   0.177134   0.781710   0.698685   \n",
       "6           0   0.944300   0.316919   0.785937   0.727635   \n",
       "7           0   0.987571   0.538941   0.863792   0.725029   \n",
       "8           0   0.958140   0.634307   0.816060   0.807026   \n",
       "9           0   0.990236   0.623176   0.936557   0.718809   \n",
       "\n",
       "   Cooperation_rating_r  Initial_C_rate_r  Median_score_r    Wins_r  \n",
       "0              1.000000               1.0        1.000000  1.000000  \n",
       "1              0.975134               1.0        0.998891  0.857143  \n",
       "2              0.959943               1.0        0.998245  0.857143  \n",
       "3              0.984648               1.0        0.997280  0.844828  \n",
       "4              0.978363               1.0        0.993334  0.877551  \n",
       "5              0.979501               1.0        0.993093  0.877551  \n",
       "6              0.988539               1.0        0.988724  0.816327  \n",
       "7              0.967621               1.0        0.982518  0.918367  \n",
       "8              0.995198               1.0        0.982216  0.897959  \n",
       "9              0.937797               1.0        0.975044  0.795918  "
      ]
     },
     "execution_count": 10,
     "metadata": {},
     "output_type": "execute_result"
    }
   ],
   "source": [
    "overall_df = pd.read_csv('large_summary.csv', index_col=0)\n",
    "overall_df.head(10)"
   ]
  },
  {
   "cell_type": "code",
   "execution_count": null,
   "metadata": {
    "collapsed": false
   },
   "outputs": [],
   "source": [
    "overall_df[overall_df.Equivalent == 1]"
   ]
  },
  {
   "cell_type": "code",
   "execution_count": 12,
   "metadata": {
    "collapsed": false
   },
   "outputs": [
    {
     "ename": "ValueError",
     "evalue": "X has 8 features per sample; expecting 12",
     "output_type": "error",
     "traceback": [
      "\u001b[0;31m---------------------------------------------------------------------------\u001b[0m",
      "\u001b[0;31mValueError\u001b[0m                                Traceback (most recent call last)",
      "\u001b[0;32m<ipython-input-12-60326ff4249d>\u001b[0m in \u001b[0;36m<module>\u001b[0;34m()\u001b[0m\n\u001b[1;32m      2\u001b[0m \u001b[0moverall_data\u001b[0m\u001b[0;34m.\u001b[0m\u001b[0mdrop\u001b[0m\u001b[0;34m(\u001b[0m\u001b[0;34m'Equivalent'\u001b[0m\u001b[0;34m,\u001b[0m \u001b[0maxis\u001b[0m\u001b[0;34m=\u001b[0m\u001b[0;36m1\u001b[0m\u001b[0;34m,\u001b[0m \u001b[0minplace\u001b[0m\u001b[0;34m=\u001b[0m\u001b[0;32mTrue\u001b[0m\u001b[0;34m)\u001b[0m\u001b[0;34m\u001b[0m\u001b[0m\n\u001b[1;32m      3\u001b[0m \u001b[0moverall_equivalent\u001b[0m \u001b[0;34m=\u001b[0m \u001b[0moverall_df\u001b[0m\u001b[0;34m[\u001b[0m\u001b[0;34m'Equivalent'\u001b[0m\u001b[0;34m]\u001b[0m\u001b[0;34m\u001b[0m\u001b[0m\n\u001b[0;32m----> 4\u001b[0;31m \u001b[0mprint\u001b[0m\u001b[0;34m(\u001b[0m\u001b[0mlog_model\u001b[0m\u001b[0;34m.\u001b[0m\u001b[0mscore\u001b[0m\u001b[0;34m(\u001b[0m\u001b[0mX\u001b[0m\u001b[0;34m=\u001b[0m\u001b[0moverall_data\u001b[0m\u001b[0;34m,\u001b[0m \u001b[0my\u001b[0m\u001b[0;34m=\u001b[0m\u001b[0moverall_equivalent\u001b[0m\u001b[0;34m)\u001b[0m\u001b[0;34m)\u001b[0m\u001b[0;34m\u001b[0m\u001b[0m\n\u001b[0m",
      "\u001b[0;32m/Users/James/anaconda3/envs/fingerprint/lib/python3.5/site-packages/sklearn/base.py\u001b[0m in \u001b[0;36mscore\u001b[0;34m(self, X, y, sample_weight)\u001b[0m\n\u001b[1;32m    347\u001b[0m         \"\"\"\n\u001b[1;32m    348\u001b[0m         \u001b[0;32mfrom\u001b[0m \u001b[0;34m.\u001b[0m\u001b[0mmetrics\u001b[0m \u001b[0;32mimport\u001b[0m \u001b[0maccuracy_score\u001b[0m\u001b[0;34m\u001b[0m\u001b[0m\n\u001b[0;32m--> 349\u001b[0;31m         \u001b[0;32mreturn\u001b[0m \u001b[0maccuracy_score\u001b[0m\u001b[0;34m(\u001b[0m\u001b[0my\u001b[0m\u001b[0;34m,\u001b[0m \u001b[0mself\u001b[0m\u001b[0;34m.\u001b[0m\u001b[0mpredict\u001b[0m\u001b[0;34m(\u001b[0m\u001b[0mX\u001b[0m\u001b[0;34m)\u001b[0m\u001b[0;34m,\u001b[0m \u001b[0msample_weight\u001b[0m\u001b[0;34m=\u001b[0m\u001b[0msample_weight\u001b[0m\u001b[0;34m)\u001b[0m\u001b[0;34m\u001b[0m\u001b[0m\n\u001b[0m\u001b[1;32m    350\u001b[0m \u001b[0;34m\u001b[0m\u001b[0m\n\u001b[1;32m    351\u001b[0m \u001b[0;34m\u001b[0m\u001b[0m\n",
      "\u001b[0;32m/Users/James/anaconda3/envs/fingerprint/lib/python3.5/site-packages/sklearn/linear_model/base.py\u001b[0m in \u001b[0;36mpredict\u001b[0;34m(self, X)\u001b[0m\n\u001b[1;32m    334\u001b[0m             \u001b[0mPredicted\u001b[0m \u001b[0;32mclass\u001b[0m \u001b[0mlabel\u001b[0m \u001b[0mper\u001b[0m \u001b[0msample\u001b[0m\u001b[0;34m.\u001b[0m\u001b[0;34m\u001b[0m\u001b[0m\n\u001b[1;32m    335\u001b[0m         \"\"\"\n\u001b[0;32m--> 336\u001b[0;31m         \u001b[0mscores\u001b[0m \u001b[0;34m=\u001b[0m \u001b[0mself\u001b[0m\u001b[0;34m.\u001b[0m\u001b[0mdecision_function\u001b[0m\u001b[0;34m(\u001b[0m\u001b[0mX\u001b[0m\u001b[0;34m)\u001b[0m\u001b[0;34m\u001b[0m\u001b[0m\n\u001b[0m\u001b[1;32m    337\u001b[0m         \u001b[0;32mif\u001b[0m \u001b[0mlen\u001b[0m\u001b[0;34m(\u001b[0m\u001b[0mscores\u001b[0m\u001b[0;34m.\u001b[0m\u001b[0mshape\u001b[0m\u001b[0;34m)\u001b[0m \u001b[0;34m==\u001b[0m \u001b[0;36m1\u001b[0m\u001b[0;34m:\u001b[0m\u001b[0;34m\u001b[0m\u001b[0m\n\u001b[1;32m    338\u001b[0m             \u001b[0mindices\u001b[0m \u001b[0;34m=\u001b[0m \u001b[0;34m(\u001b[0m\u001b[0mscores\u001b[0m \u001b[0;34m>\u001b[0m \u001b[0;36m0\u001b[0m\u001b[0;34m)\u001b[0m\u001b[0;34m.\u001b[0m\u001b[0mastype\u001b[0m\u001b[0;34m(\u001b[0m\u001b[0mnp\u001b[0m\u001b[0;34m.\u001b[0m\u001b[0mint\u001b[0m\u001b[0;34m)\u001b[0m\u001b[0;34m\u001b[0m\u001b[0m\n",
      "\u001b[0;32m/Users/James/anaconda3/envs/fingerprint/lib/python3.5/site-packages/sklearn/linear_model/base.py\u001b[0m in \u001b[0;36mdecision_function\u001b[0;34m(self, X)\u001b[0m\n\u001b[1;32m    315\u001b[0m         \u001b[0;32mif\u001b[0m \u001b[0mX\u001b[0m\u001b[0;34m.\u001b[0m\u001b[0mshape\u001b[0m\u001b[0;34m[\u001b[0m\u001b[0;36m1\u001b[0m\u001b[0;34m]\u001b[0m \u001b[0;34m!=\u001b[0m \u001b[0mn_features\u001b[0m\u001b[0;34m:\u001b[0m\u001b[0;34m\u001b[0m\u001b[0m\n\u001b[1;32m    316\u001b[0m             raise ValueError(\"X has %d features per sample; expecting %d\"\n\u001b[0;32m--> 317\u001b[0;31m                              % (X.shape[1], n_features))\n\u001b[0m\u001b[1;32m    318\u001b[0m \u001b[0;34m\u001b[0m\u001b[0m\n\u001b[1;32m    319\u001b[0m         scores = safe_sparse_dot(X, self.coef_.T,\n",
      "\u001b[0;31mValueError\u001b[0m: X has 8 features per sample; expecting 12"
     ]
    }
   ],
   "source": [
    "overall_data = overall_df.copy()\n",
    "overall_data.drop('Equivalent', axis=1, inplace=True)\n",
    "overall_equivalent = overall_df['Equivalent']\n",
    "print(log_model.score(X=overall_data, y=overall_equivalent))"
   ]
  },
  {
   "cell_type": "code",
   "execution_count": null,
   "metadata": {
    "collapsed": false
   },
   "outputs": [],
   "source": [
    "probabilities = [i[1] for i in log_model.predict_proba(X=overall_data[overall_df.Equivalent == 1])]\n",
    "# comparison_df = pd.DataFrame({'probability': probabilities,\n",
    "#                               'actual': overall_equivalent})\n",
    "# comparison_df.head(10)\n",
    "print(probabilities)"
   ]
  },
  {
   "cell_type": "code",
   "execution_count": null,
   "metadata": {
    "collapsed": false
   },
   "outputs": [],
   "source": [
    "print(len(probabilities))\n",
    "print(set(probabilities))"
   ]
  },
  {
   "cell_type": "code",
   "execution_count": null,
   "metadata": {
    "collapsed": false
   },
   "outputs": [],
   "source": [
    "different_df = comparison_df.copy()\n",
    "different_df = different_df[comparison_df.actual == 0]\n",
    "different_df.drop('actual', inplace=True, axis=1)\n",
    "print(len(different_df.index))\n",
    "sns.distplot(different_df['probability'], kde=False)\n",
    "plt.show()"
   ]
  },
  {
   "cell_type": "code",
   "execution_count": null,
   "metadata": {
    "collapsed": false
   },
   "outputs": [],
   "source": [
    "same_df = comparison_df.copy()\n",
    "same_df = same_df[comparison_df.actual == 1]\n",
    "same_df.drop('actual', inplace=True, axis=1)\n",
    "print(len(same_df.index))\n",
    "sns.distplot(same_df['probability'], kde=False)\n",
    "plt.show()"
   ]
  },
  {
   "cell_type": "code",
   "execution_count": null,
   "metadata": {
    "collapsed": false
   },
   "outputs": [],
   "source": [
    "sns.distplot(comparison_df['probability'])\n",
    "plt.show()"
   ]
  },
  {
   "cell_type": "code",
   "execution_count": null,
   "metadata": {
    "collapsed": false
   },
   "outputs": [],
   "source": [
    "fig, ax = plt.subplots()\n",
    "for a in [different_df['probability'], same_df['probability']]:\n",
    "    sns.distplot(a, ax=ax, kde=False)\n",
    "plt.show()"
   ]
  },
  {
   "cell_type": "code",
   "execution_count": null,
   "metadata": {
    "collapsed": false
   },
   "outputs": [],
   "source": [
    "def plot_confusion_matrix(cm, classes,\n",
    "                          normalize=False,\n",
    "                          title='Confusion matrix',\n",
    "                          cmap=plt.cm.Blues):\n",
    "    \"\"\"\n",
    "    This function prints and plots the confusion matrix.\n",
    "    Normalization can be applied by setting `normalize=True`.\n",
    "    \"\"\"\n",
    "    plt.imshow(cm, interpolation='nearest', cmap=cmap)\n",
    "    plt.title(title)\n",
    "    plt.colorbar()\n",
    "    tick_marks = np.arange(len(classes))\n",
    "    plt.xticks(tick_marks, classes, rotation=45)\n",
    "    plt.yticks(tick_marks, classes)\n",
    "\n",
    "    if normalize:\n",
    "        cm = cm.astype('float') / cm.sum(axis=1)[:, np.newaxis]\n",
    "        print(\"Normalized confusion matrix\")\n",
    "    else:\n",
    "        print('Confusion matrix, without normalization')\n",
    "\n",
    "    print(cm)\n",
    "\n",
    "    thresh = cm.max() / 2.\n",
    "    for i, j in itertools.product(range(cm.shape[0]), range(cm.shape[1])):\n",
    "        plt.text(j, i, cm[i, j],\n",
    "                 horizontalalignment=\"center\",\n",
    "                 color=\"white\" if cm[i, j] > thresh else \"black\")\n",
    "\n",
    "    plt.tight_layout()\n",
    "    plt.ylabel('True label')\n",
    "    plt.xlabel('Predicted label')"
   ]
  },
  {
   "cell_type": "code",
   "execution_count": null,
   "metadata": {
    "collapsed": false,
    "scrolled": true
   },
   "outputs": [],
   "source": [
    "predictions = log_model.predict(X=overall_data)\n",
    "cnf_matrix = confusion_matrix(overall_equivalent, predictions)\n",
    "np.set_printoptions(precision=2)\n",
    "class_names = ['Different', 'Same']\n",
    "sns.set_style(\"whitegrid\", {'axes.grid' : False})\n",
    "plt.figure()\n",
    "plot_confusion_matrix(cnf_matrix, classes=class_names, title='Confusion matrix, without normalization')\n",
    "plt.show()\n",
    "plt.clf()"
   ]
  },
  {
   "cell_type": "code",
   "execution_count": null,
   "metadata": {
    "collapsed": false
   },
   "outputs": [],
   "source": [
    "fpr, tpr, _ = roc_curve(overall_equivalent, predictions, pos_label=1)\n",
    "roc_auc = auc(fpr, tpr)\n",
    "# Compute micro-average ROC curve and ROC area\n",
    "sns.set_style('darkgrid')\n",
    "\n",
    "plt.figure()\n",
    "plt.plot(fpr, tpr, label='ROC curve (area = %0.2f)' % roc_auc)\n",
    "plt.plot([0, 1], [0, 1])\n",
    "plt.xlim([0.0, 1.0])\n",
    "plt.ylim([0.0, 1.05])\n",
    "plt.xlabel('False Positive Rate')\n",
    "plt.ylabel('True Positive Rate')\n",
    "plt.title('Receiver operating characteristic example')\n",
    "plt.legend(loc=\"lower right\")\n",
    "plt.show()"
   ]
  },
  {
   "cell_type": "code",
   "execution_count": null,
   "metadata": {
    "collapsed": false
   },
   "outputs": [],
   "source": []
  },
  {
   "cell_type": "code",
   "execution_count": null,
   "metadata": {
    "collapsed": false
   },
   "outputs": [],
   "source": [
    "all_samples_df = pd.read_csv('large_training_data.csv', index_col=0)\n",
    "all_samples_df.head(10)"
   ]
  },
  {
   "cell_type": "code",
   "execution_count": null,
   "metadata": {
    "collapsed": false
   },
   "outputs": [],
   "source": [
    "strats = [axl.TitForTat, axl.Defector]\n",
    "strategies = [s.name for s in strats]\n",
    "print(strategies)\n",
    "sample_df = all_samples_df[all_samples_df['Name_A'].isin(strategies)]\n",
    "sample_df = sample_df[sample_df['Name_B'].isin(strategies)]\n"
   ]
  },
  {
   "cell_type": "code",
   "execution_count": null,
   "metadata": {
    "collapsed": false
   },
   "outputs": [],
   "source": [
    "overall_data = overall_df.copy()\n",
    "overall_data.drop('Equivalent', axis=1, inplace=True)\n",
    "overall_equivalent = overall_df['Equivalent']\n",
    "\n",
    "def compute_score_for_sample(strategies):\n",
    "    strategies = [s.name for s in strategies]\n",
    "    sample_df = all_samples_df[all_samples_df['Name_A'].isin(strategies)]\n",
    "    sample_df = sample_df[sample_df['Name_B'].isin(strategies)]\n",
    "    sample_df.drop(['Name_A', 'Name_B'], axis=1, inplace=True)\n",
    "    sample_data = sample_df.copy()\n",
    "    sample_data.drop('Equivalent', axis=1, inplace=True)\n",
    "    sample_equivalent = sample_df['Equivalent']\n",
    "    log_model = LogisticRegression()\n",
    "    log_model.fit(X=sample_data, y=sample_equivalent)\n",
    "    score = log_model.score(X=overall_data, y=overall_equivalent)\n",
    "    return score"
   ]
  },
  {
   "cell_type": "code",
   "execution_count": null,
   "metadata": {
    "collapsed": false
   },
   "outputs": [],
   "source": [
    "axelrod_strategies = axl.strategies\n",
    "sample_strategies = np.random.choice(axelrod_strategies, 10, replace=False)\n",
    "compute_score_for_sample(sample_strategies)"
   ]
  },
  {
   "cell_type": "code",
   "execution_count": null,
   "metadata": {
    "collapsed": false
   },
   "outputs": [],
   "source": []
  },
  {
   "cell_type": "code",
   "execution_count": null,
   "metadata": {
    "collapsed": false
   },
   "outputs": [],
   "source": []
  },
  {
   "cell_type": "code",
   "execution_count": null,
   "metadata": {
    "collapsed": true
   },
   "outputs": [],
   "source": [
    "from tqdm import tqdm"
   ]
  },
  {
   "cell_type": "code",
   "execution_count": null,
   "metadata": {
    "collapsed": false
   },
   "outputs": [],
   "source": [
    "scores = []\n",
    "axelrod_strategies = axl.strategies\n",
    "\n",
    "for _ in tqdm(range(100)):\n",
    "    sample_strategies = np.random.choice(axelrod_strategies, 50, replace=False)\n",
    "    score = compute_score_for_sample(sample_strategies)\n",
    "    scores.append(score)\n",
    "\n",
    "q = sns.distplot(scores)\n",
    "max_height = max(h.get_height() for h in q.patches)\n",
    "plt.plot([0.9946236559139785, 0.9946236559139785], [0, max_height], linewidth=2)\n",
    "plt.show()\n",
    "print(max_height)"
   ]
  },
  {
   "cell_type": "code",
   "execution_count": null,
   "metadata": {
    "collapsed": false
   },
   "outputs": [],
   "source": [
    "from joblib import Parallel, delayed\n",
    "import multiprocessing\n"
   ]
  },
  {
   "cell_type": "code",
   "execution_count": null,
   "metadata": {
    "collapsed": false,
    "scrolled": true
   },
   "outputs": [],
   "source": [
    "inputs = [np.random.choice(axelrod_strategies, 10, replace=False) for _ in range(100)]\n",
    "# print(inputs)\n",
    "num_cores = multiprocessing.cpu_count()\n",
    "results = Parallel(n_jobs=num_cores)(delayed(compute_score_for_sample)(i) for i in inputs)\n",
    "sns.distplot(results)\n",
    "plt.show()"
   ]
  },
  {
   "cell_type": "code",
   "execution_count": null,
   "metadata": {
    "collapsed": false
   },
   "outputs": [],
   "source": []
  },
  {
   "cell_type": "code",
   "execution_count": null,
   "metadata": {
    "collapsed": false
   },
   "outputs": [],
   "source": []
  },
  {
   "cell_type": "code",
   "execution_count": null,
   "metadata": {
    "collapsed": false
   },
   "outputs": [],
   "source": []
  },
  {
   "cell_type": "code",
   "execution_count": null,
   "metadata": {
    "collapsed": false
   },
   "outputs": [],
   "source": [
    "def compute_score_for_sample(size):\n",
    "    \n",
    "    sample_df = all_samples_df.sample(size)\n",
    "    sample_df.drop(['Name_A', 'Name_B'], axis=1, inplace=True)\n",
    "    overall_data = sample_df.copy()\n",
    "    overall_data.drop('Equivalent', axis=1, inplace=True)\n",
    "    overall_equivalent = sample_df['Equivalent']\n",
    "    score = log_model.score(X=overall_data, y=overall_equivalent)\n",
    "    return score"
   ]
  },
  {
   "cell_type": "code",
   "execution_count": null,
   "metadata": {
    "collapsed": false
   },
   "outputs": [],
   "source": []
  },
  {
   "cell_type": "code",
   "execution_count": null,
   "metadata": {
    "collapsed": false
   },
   "outputs": [],
   "source": []
  },
  {
   "cell_type": "code",
   "execution_count": null,
   "metadata": {
    "collapsed": false
   },
   "outputs": [],
   "source": []
  },
  {
   "cell_type": "code",
   "execution_count": null,
   "metadata": {
    "collapsed": false
   },
   "outputs": [],
   "source": []
  },
  {
   "cell_type": "code",
   "execution_count": null,
   "metadata": {
    "collapsed": false
   },
   "outputs": [],
   "source": []
  },
  {
   "cell_type": "code",
   "execution_count": null,
   "metadata": {
    "collapsed": false
   },
   "outputs": [],
   "source": []
  },
  {
   "cell_type": "code",
   "execution_count": null,
   "metadata": {
    "collapsed": false
   },
   "outputs": [],
   "source": []
  },
  {
   "cell_type": "code",
   "execution_count": null,
   "metadata": {
    "collapsed": false
   },
   "outputs": [],
   "source": []
  },
  {
   "cell_type": "code",
   "execution_count": null,
   "metadata": {
    "collapsed": false
   },
   "outputs": [],
   "source": []
  },
  {
   "cell_type": "code",
   "execution_count": null,
   "metadata": {
    "collapsed": false
   },
   "outputs": [],
   "source": []
  },
  {
   "cell_type": "code",
   "execution_count": null,
   "metadata": {
    "collapsed": false
   },
   "outputs": [],
   "source": []
  },
  {
   "cell_type": "code",
   "execution_count": null,
   "metadata": {
    "collapsed": false
   },
   "outputs": [],
   "source": []
  },
  {
   "cell_type": "code",
   "execution_count": null,
   "metadata": {
    "collapsed": false
   },
   "outputs": [],
   "source": []
  },
  {
   "cell_type": "code",
   "execution_count": null,
   "metadata": {
    "collapsed": false
   },
   "outputs": [],
   "source": []
  },
  {
   "cell_type": "code",
   "execution_count": null,
   "metadata": {
    "collapsed": true
   },
   "outputs": [],
   "source": []
  },
  {
   "cell_type": "code",
   "execution_count": null,
   "metadata": {
    "collapsed": false
   },
   "outputs": [],
   "source": []
  },
  {
   "cell_type": "code",
   "execution_count": null,
   "metadata": {
    "collapsed": false
   },
   "outputs": [],
   "source": []
  },
  {
   "cell_type": "code",
   "execution_count": null,
   "metadata": {
    "collapsed": false
   },
   "outputs": [],
   "source": []
  },
  {
   "cell_type": "code",
   "execution_count": null,
   "metadata": {
    "collapsed": false
   },
   "outputs": [],
   "source": []
  },
  {
   "cell_type": "code",
   "execution_count": null,
   "metadata": {
    "collapsed": false
   },
   "outputs": [],
   "source": []
  },
  {
   "cell_type": "code",
   "execution_count": null,
   "metadata": {
    "collapsed": false
   },
   "outputs": [],
   "source": []
  },
  {
   "cell_type": "code",
   "execution_count": null,
   "metadata": {
    "collapsed": false
   },
   "outputs": [],
   "source": []
  },
  {
   "cell_type": "code",
   "execution_count": null,
   "metadata": {
    "collapsed": false
   },
   "outputs": [],
   "source": []
  },
  {
   "cell_type": "code",
   "execution_count": null,
   "metadata": {
    "collapsed": false
   },
   "outputs": [],
   "source": []
  },
  {
   "cell_type": "code",
   "execution_count": null,
   "metadata": {
    "collapsed": false
   },
   "outputs": [],
   "source": []
  },
  {
   "cell_type": "code",
   "execution_count": null,
   "metadata": {
    "collapsed": true
   },
   "outputs": [],
   "source": []
  }
 ],
 "metadata": {
  "kernelspec": {
   "display_name": "Python 3",
   "language": "python",
   "name": "python3"
  },
  "language_info": {
   "codemirror_mode": {
    "name": "ipython",
    "version": 3
   },
   "file_extension": ".py",
   "mimetype": "text/x-python",
   "name": "python",
   "nbconvert_exporter": "python",
   "pygments_lexer": "ipython3",
   "version": "3.5.2"
  }
 },
 "nbformat": 4,
 "nbformat_minor": 2
}
