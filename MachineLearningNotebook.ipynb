{
 "cells": [
  {
   "cell_type": "code",
   "execution_count": 1,
   "metadata": {
    "collapsed": false
   },
   "outputs": [],
   "source": [
    "import numpy as np\n",
    "import axelrod as axl\n",
    "import pandas as pd\n",
    "from MachineLearning import create_test_df, clean_test_df, create_large_df"
   ]
  },
  {
   "cell_type": "code",
   "execution_count": 2,
   "metadata": {
    "collapsed": true
   },
   "outputs": [],
   "source": [
    "strategies = [axl.TitForTat(), axl.Cooperator(), axl.Defector(), axl.Alternator(), axl.WinStayLoseShift(), axl.Bully()]\n",
    "strategies = list(np.repeat(strategies, 3))"
   ]
  },
  {
   "cell_type": "code",
   "execution_count": 3,
   "metadata": {
    "collapsed": false
   },
   "outputs": [
    {
     "name": "stderr",
     "output_type": "stream",
     "text": []
    },
    {
     "data": {
      "text/html": [
       "<div>\n",
       "<table border=\"1\" class=\"dataframe\">\n",
       "  <thead>\n",
       "    <tr style=\"text-align: right;\">\n",
       "      <th></th>\n",
       "      <th>Rank</th>\n",
       "      <th>Name</th>\n",
       "      <th>Median_score</th>\n",
       "      <th>Cooperation_rating</th>\n",
       "      <th>Wins</th>\n",
       "      <th>Initial_C_rate</th>\n",
       "      <th>CC_rate</th>\n",
       "      <th>CD_rate</th>\n",
       "      <th>DC_rate</th>\n",
       "      <th>DD_rate</th>\n",
       "    </tr>\n",
       "  </thead>\n",
       "  <tbody>\n",
       "    <tr>\n",
       "      <th>0</th>\n",
       "      <td>0</td>\n",
       "      <td>Dual Joss-Ann Tit For Tat</td>\n",
       "      <td>3.018056</td>\n",
       "      <td>0.113611</td>\n",
       "      <td>14.0</td>\n",
       "      <td>0.000000</td>\n",
       "      <td>0.046111</td>\n",
       "      <td>0.067500</td>\n",
       "      <td>0.498333</td>\n",
       "      <td>0.388056</td>\n",
       "    </tr>\n",
       "    <tr>\n",
       "      <th>1</th>\n",
       "      <td>1</td>\n",
       "      <td>Defector</td>\n",
       "      <td>3.013600</td>\n",
       "      <td>0.000000</td>\n",
       "      <td>23.0</td>\n",
       "      <td>0.000000</td>\n",
       "      <td>0.000000</td>\n",
       "      <td>0.000000</td>\n",
       "      <td>0.503400</td>\n",
       "      <td>0.496600</td>\n",
       "    </tr>\n",
       "    <tr>\n",
       "      <th>2</th>\n",
       "      <td>2</td>\n",
       "      <td>Dual Joss-Ann Tit For Tat</td>\n",
       "      <td>3.000000</td>\n",
       "      <td>0.000000</td>\n",
       "      <td>15.0</td>\n",
       "      <td>0.000000</td>\n",
       "      <td>0.000000</td>\n",
       "      <td>0.000000</td>\n",
       "      <td>0.500000</td>\n",
       "      <td>0.500000</td>\n",
       "    </tr>\n",
       "    <tr>\n",
       "      <th>3</th>\n",
       "      <td>3</td>\n",
       "      <td>Defector</td>\n",
       "      <td>2.996800</td>\n",
       "      <td>0.000000</td>\n",
       "      <td>23.0</td>\n",
       "      <td>0.000000</td>\n",
       "      <td>0.000000</td>\n",
       "      <td>0.000000</td>\n",
       "      <td>0.499200</td>\n",
       "      <td>0.500800</td>\n",
       "    </tr>\n",
       "    <tr>\n",
       "      <th>4</th>\n",
       "      <td>4</td>\n",
       "      <td>Defector</td>\n",
       "      <td>2.988800</td>\n",
       "      <td>0.000000</td>\n",
       "      <td>22.0</td>\n",
       "      <td>0.000000</td>\n",
       "      <td>0.000000</td>\n",
       "      <td>0.000000</td>\n",
       "      <td>0.497200</td>\n",
       "      <td>0.502800</td>\n",
       "    </tr>\n",
       "    <tr>\n",
       "      <th>5</th>\n",
       "      <td>5</td>\n",
       "      <td>Dual Joss-Ann Tit For Tat</td>\n",
       "      <td>2.986667</td>\n",
       "      <td>0.209167</td>\n",
       "      <td>15.0</td>\n",
       "      <td>0.000000</td>\n",
       "      <td>0.088611</td>\n",
       "      <td>0.120556</td>\n",
       "      <td>0.482500</td>\n",
       "      <td>0.308333</td>\n",
       "    </tr>\n",
       "    <tr>\n",
       "      <th>6</th>\n",
       "      <td>6</td>\n",
       "      <td>Dual Joss-Ann Tit For Tat</td>\n",
       "      <td>2.920278</td>\n",
       "      <td>0.303056</td>\n",
       "      <td>13.0</td>\n",
       "      <td>0.000000</td>\n",
       "      <td>0.137778</td>\n",
       "      <td>0.165278</td>\n",
       "      <td>0.452500</td>\n",
       "      <td>0.244444</td>\n",
       "    </tr>\n",
       "    <tr>\n",
       "      <th>7</th>\n",
       "      <td>7</td>\n",
       "      <td>Dual Joss-Ann Tit For Tat</td>\n",
       "      <td>2.649167</td>\n",
       "      <td>0.248333</td>\n",
       "      <td>15.0</td>\n",
       "      <td>0.333333</td>\n",
       "      <td>0.131389</td>\n",
       "      <td>0.116944</td>\n",
       "      <td>0.375833</td>\n",
       "      <td>0.375833</td>\n",
       "    </tr>\n",
       "    <tr>\n",
       "      <th>8</th>\n",
       "      <td>8</td>\n",
       "      <td>Joss-Ann Tit For Tat</td>\n",
       "      <td>2.632222</td>\n",
       "      <td>0.117222</td>\n",
       "      <td>15.0</td>\n",
       "      <td>0.388889</td>\n",
       "      <td>0.065000</td>\n",
       "      <td>0.052222</td>\n",
       "      <td>0.388611</td>\n",
       "      <td>0.494167</td>\n",
       "    </tr>\n",
       "    <tr>\n",
       "      <th>9</th>\n",
       "      <td>9</td>\n",
       "      <td>Dual Joss-Ann Tit For Tat</td>\n",
       "      <td>2.529722</td>\n",
       "      <td>0.360833</td>\n",
       "      <td>14.0</td>\n",
       "      <td>0.166667</td>\n",
       "      <td>0.181667</td>\n",
       "      <td>0.179167</td>\n",
       "      <td>0.336389</td>\n",
       "      <td>0.302778</td>\n",
       "    </tr>\n",
       "  </tbody>\n",
       "</table>\n",
       "</div>"
      ],
      "text/plain": [
       "   Rank                       Name  Median_score  Cooperation_rating  Wins  \\\n",
       "0     0  Dual Joss-Ann Tit For Tat      3.018056            0.113611  14.0   \n",
       "1     1                   Defector      3.013600            0.000000  23.0   \n",
       "2     2  Dual Joss-Ann Tit For Tat      3.000000            0.000000  15.0   \n",
       "3     3                   Defector      2.996800            0.000000  23.0   \n",
       "4     4                   Defector      2.988800            0.000000  22.0   \n",
       "5     5  Dual Joss-Ann Tit For Tat      2.986667            0.209167  15.0   \n",
       "6     6  Dual Joss-Ann Tit For Tat      2.920278            0.303056  13.0   \n",
       "7     7  Dual Joss-Ann Tit For Tat      2.649167            0.248333  15.0   \n",
       "8     8       Joss-Ann Tit For Tat      2.632222            0.117222  15.0   \n",
       "9     9  Dual Joss-Ann Tit For Tat      2.529722            0.360833  14.0   \n",
       "\n",
       "   Initial_C_rate   CC_rate   CD_rate   DC_rate   DD_rate  \n",
       "0        0.000000  0.046111  0.067500  0.498333  0.388056  \n",
       "1        0.000000  0.000000  0.000000  0.503400  0.496600  \n",
       "2        0.000000  0.000000  0.000000  0.500000  0.500000  \n",
       "3        0.000000  0.000000  0.000000  0.499200  0.500800  \n",
       "4        0.000000  0.000000  0.000000  0.497200  0.502800  \n",
       "5        0.000000  0.088611  0.120556  0.482500  0.308333  \n",
       "6        0.000000  0.137778  0.165278  0.452500  0.244444  \n",
       "7        0.333333  0.131389  0.116944  0.375833  0.375833  \n",
       "8        0.388889  0.065000  0.052222  0.388611  0.494167  \n",
       "9        0.166667  0.181667  0.179167  0.336389  0.302778  "
      ]
     },
     "execution_count": 3,
     "metadata": {},
     "output_type": "execute_result"
    }
   ],
   "source": [
    "test_df = create_test_df(strategies)\n",
    "test_df.head(10)"
   ]
  },
  {
   "cell_type": "code",
   "execution_count": 4,
   "metadata": {
    "collapsed": false
   },
   "outputs": [
    {
     "data": {
      "text/html": [
       "<div>\n",
       "<table border=\"1\" class=\"dataframe\">\n",
       "  <thead>\n",
       "    <tr style=\"text-align: right;\">\n",
       "      <th></th>\n",
       "      <th>Name</th>\n",
       "      <th>Median_score</th>\n",
       "      <th>Cooperation_rating</th>\n",
       "      <th>Wins</th>\n",
       "      <th>Initial_C_rate</th>\n",
       "      <th>CC_rate</th>\n",
       "      <th>CD_rate</th>\n",
       "      <th>DC_rate</th>\n",
       "      <th>DD_rate</th>\n",
       "    </tr>\n",
       "  </thead>\n",
       "  <tbody>\n",
       "    <tr>\n",
       "      <th>1</th>\n",
       "      <td>Defector</td>\n",
       "      <td>0.60272</td>\n",
       "      <td>0.0000</td>\n",
       "      <td>23.0</td>\n",
       "      <td>0.0</td>\n",
       "      <td>0.0000</td>\n",
       "      <td>0.0000</td>\n",
       "      <td>0.5034</td>\n",
       "      <td>0.4966</td>\n",
       "    </tr>\n",
       "    <tr>\n",
       "      <th>3</th>\n",
       "      <td>Defector</td>\n",
       "      <td>0.59936</td>\n",
       "      <td>0.0000</td>\n",
       "      <td>23.0</td>\n",
       "      <td>0.0</td>\n",
       "      <td>0.0000</td>\n",
       "      <td>0.0000</td>\n",
       "      <td>0.4992</td>\n",
       "      <td>0.5008</td>\n",
       "    </tr>\n",
       "    <tr>\n",
       "      <th>4</th>\n",
       "      <td>Defector</td>\n",
       "      <td>0.59776</td>\n",
       "      <td>0.0000</td>\n",
       "      <td>22.0</td>\n",
       "      <td>0.0</td>\n",
       "      <td>0.0000</td>\n",
       "      <td>0.0000</td>\n",
       "      <td>0.4972</td>\n",
       "      <td>0.5028</td>\n",
       "    </tr>\n",
       "    <tr>\n",
       "      <th>11</th>\n",
       "      <td>Win-Stay Lose-Shift</td>\n",
       "      <td>0.47872</td>\n",
       "      <td>0.5502</td>\n",
       "      <td>9.0</td>\n",
       "      <td>1.0</td>\n",
       "      <td>0.3338</td>\n",
       "      <td>0.2164</td>\n",
       "      <td>0.2356</td>\n",
       "      <td>0.2142</td>\n",
       "    </tr>\n",
       "    <tr>\n",
       "      <th>15</th>\n",
       "      <td>Bully</td>\n",
       "      <td>0.47072</td>\n",
       "      <td>0.4946</td>\n",
       "      <td>11.0</td>\n",
       "      <td>0.0</td>\n",
       "      <td>0.1654</td>\n",
       "      <td>0.3292</td>\n",
       "      <td>0.3380</td>\n",
       "      <td>0.1674</td>\n",
       "    </tr>\n",
       "    <tr>\n",
       "      <th>16</th>\n",
       "      <td>Bully</td>\n",
       "      <td>0.47068</td>\n",
       "      <td>0.4952</td>\n",
       "      <td>11.0</td>\n",
       "      <td>0.0</td>\n",
       "      <td>0.1626</td>\n",
       "      <td>0.3326</td>\n",
       "      <td>0.3402</td>\n",
       "      <td>0.1646</td>\n",
       "    </tr>\n",
       "    <tr>\n",
       "      <th>17</th>\n",
       "      <td>Win-Stay Lose-Shift</td>\n",
       "      <td>0.46996</td>\n",
       "      <td>0.5528</td>\n",
       "      <td>7.0</td>\n",
       "      <td>1.0</td>\n",
       "      <td>0.3310</td>\n",
       "      <td>0.2218</td>\n",
       "      <td>0.2274</td>\n",
       "      <td>0.2198</td>\n",
       "    </tr>\n",
       "    <tr>\n",
       "      <th>18</th>\n",
       "      <td>Win-Stay Lose-Shift</td>\n",
       "      <td>0.46588</td>\n",
       "      <td>0.5584</td>\n",
       "      <td>7.0</td>\n",
       "      <td>1.0</td>\n",
       "      <td>0.3354</td>\n",
       "      <td>0.2230</td>\n",
       "      <td>0.2204</td>\n",
       "      <td>0.2212</td>\n",
       "    </tr>\n",
       "    <tr>\n",
       "      <th>20</th>\n",
       "      <td>Bully</td>\n",
       "      <td>0.46128</td>\n",
       "      <td>0.5048</td>\n",
       "      <td>11.0</td>\n",
       "      <td>0.0</td>\n",
       "      <td>0.1600</td>\n",
       "      <td>0.3448</td>\n",
       "      <td>0.3328</td>\n",
       "      <td>0.1624</td>\n",
       "    </tr>\n",
       "    <tr>\n",
       "      <th>23</th>\n",
       "      <td>Alternator</td>\n",
       "      <td>0.44728</td>\n",
       "      <td>0.5000</td>\n",
       "      <td>13.0</td>\n",
       "      <td>1.0</td>\n",
       "      <td>0.2444</td>\n",
       "      <td>0.2556</td>\n",
       "      <td>0.2508</td>\n",
       "      <td>0.2492</td>\n",
       "    </tr>\n",
       "  </tbody>\n",
       "</table>\n",
       "</div>"
      ],
      "text/plain": [
       "                   Name  Median_score  Cooperation_rating  Wins  \\\n",
       "1              Defector       0.60272              0.0000  23.0   \n",
       "3              Defector       0.59936              0.0000  23.0   \n",
       "4              Defector       0.59776              0.0000  22.0   \n",
       "11  Win-Stay Lose-Shift       0.47872              0.5502   9.0   \n",
       "15                Bully       0.47072              0.4946  11.0   \n",
       "16                Bully       0.47068              0.4952  11.0   \n",
       "17  Win-Stay Lose-Shift       0.46996              0.5528   7.0   \n",
       "18  Win-Stay Lose-Shift       0.46588              0.5584   7.0   \n",
       "20                Bully       0.46128              0.5048  11.0   \n",
       "23           Alternator       0.44728              0.5000  13.0   \n",
       "\n",
       "    Initial_C_rate  CC_rate  CD_rate  DC_rate  DD_rate  \n",
       "1              0.0   0.0000   0.0000   0.5034   0.4966  \n",
       "3              0.0   0.0000   0.0000   0.4992   0.5008  \n",
       "4              0.0   0.0000   0.0000   0.4972   0.5028  \n",
       "11             1.0   0.3338   0.2164   0.2356   0.2142  \n",
       "15             0.0   0.1654   0.3292   0.3380   0.1674  \n",
       "16             0.0   0.1626   0.3326   0.3402   0.1646  \n",
       "17             1.0   0.3310   0.2218   0.2274   0.2198  \n",
       "18             1.0   0.3354   0.2230   0.2204   0.2212  \n",
       "20             0.0   0.1600   0.3448   0.3328   0.1624  \n",
       "23             1.0   0.2444   0.2556   0.2508   0.2492  "
      ]
     },
     "execution_count": 4,
     "metadata": {},
     "output_type": "execute_result"
    }
   ],
   "source": [
    "cleaned_test_df = clean_test_df(test_df)\n",
    "cleaned_test_df.head(10)"
   ]
  },
  {
   "cell_type": "code",
   "execution_count": 5,
   "metadata": {
    "collapsed": false
   },
   "outputs": [
    {
     "data": {
      "text/html": [
       "<div>\n",
       "<table border=\"1\" class=\"dataframe\">\n",
       "  <thead>\n",
       "    <tr style=\"text-align: right;\">\n",
       "      <th></th>\n",
       "      <th>Equivalent</th>\n",
       "      <th>CC_rate_r</th>\n",
       "      <th>CD_rate_r</th>\n",
       "      <th>DC_rate_r</th>\n",
       "      <th>DD_rate_r</th>\n",
       "      <th>Cooperation_rating_r</th>\n",
       "      <th>Initial_C_rate_r</th>\n",
       "      <th>Median_score_r</th>\n",
       "      <th>Wins_r</th>\n",
       "    </tr>\n",
       "  </thead>\n",
       "  <tbody>\n",
       "    <tr>\n",
       "      <th>0</th>\n",
       "      <td>1</td>\n",
       "      <td>1.0</td>\n",
       "      <td>1.0</td>\n",
       "      <td>1.000000</td>\n",
       "      <td>1.000000</td>\n",
       "      <td>1.0</td>\n",
       "      <td>1.0</td>\n",
       "      <td>1.000000</td>\n",
       "      <td>1.000000</td>\n",
       "    </tr>\n",
       "    <tr>\n",
       "      <th>1</th>\n",
       "      <td>1</td>\n",
       "      <td>1.0</td>\n",
       "      <td>1.0</td>\n",
       "      <td>0.991657</td>\n",
       "      <td>0.991613</td>\n",
       "      <td>1.0</td>\n",
       "      <td>1.0</td>\n",
       "      <td>0.994425</td>\n",
       "      <td>1.000000</td>\n",
       "    </tr>\n",
       "    <tr>\n",
       "      <th>2</th>\n",
       "      <td>1</td>\n",
       "      <td>1.0</td>\n",
       "      <td>1.0</td>\n",
       "      <td>0.987684</td>\n",
       "      <td>0.987669</td>\n",
       "      <td>1.0</td>\n",
       "      <td>1.0</td>\n",
       "      <td>0.991771</td>\n",
       "      <td>0.956522</td>\n",
       "    </tr>\n",
       "    <tr>\n",
       "      <th>3</th>\n",
       "      <td>0</td>\n",
       "      <td>0.0</td>\n",
       "      <td>0.0</td>\n",
       "      <td>0.468017</td>\n",
       "      <td>0.431333</td>\n",
       "      <td>0.0</td>\n",
       "      <td>0.0</td>\n",
       "      <td>0.794266</td>\n",
       "      <td>0.391304</td>\n",
       "    </tr>\n",
       "    <tr>\n",
       "      <th>4</th>\n",
       "      <td>0</td>\n",
       "      <td>0.0</td>\n",
       "      <td>0.0</td>\n",
       "      <td>0.671434</td>\n",
       "      <td>0.337092</td>\n",
       "      <td>0.0</td>\n",
       "      <td>1.0</td>\n",
       "      <td>0.780993</td>\n",
       "      <td>0.478261</td>\n",
       "    </tr>\n",
       "    <tr>\n",
       "      <th>5</th>\n",
       "      <td>0</td>\n",
       "      <td>0.0</td>\n",
       "      <td>0.0</td>\n",
       "      <td>0.675805</td>\n",
       "      <td>0.331454</td>\n",
       "      <td>0.0</td>\n",
       "      <td>1.0</td>\n",
       "      <td>0.780926</td>\n",
       "      <td>0.478261</td>\n",
       "    </tr>\n",
       "    <tr>\n",
       "      <th>6</th>\n",
       "      <td>0</td>\n",
       "      <td>0.0</td>\n",
       "      <td>0.0</td>\n",
       "      <td>0.451728</td>\n",
       "      <td>0.442610</td>\n",
       "      <td>0.0</td>\n",
       "      <td>0.0</td>\n",
       "      <td>0.779732</td>\n",
       "      <td>0.304348</td>\n",
       "    </tr>\n",
       "    <tr>\n",
       "      <th>7</th>\n",
       "      <td>0</td>\n",
       "      <td>0.0</td>\n",
       "      <td>0.0</td>\n",
       "      <td>0.437823</td>\n",
       "      <td>0.445429</td>\n",
       "      <td>0.0</td>\n",
       "      <td>0.0</td>\n",
       "      <td>0.772963</td>\n",
       "      <td>0.304348</td>\n",
       "    </tr>\n",
       "    <tr>\n",
       "      <th>8</th>\n",
       "      <td>0</td>\n",
       "      <td>0.0</td>\n",
       "      <td>0.0</td>\n",
       "      <td>0.661104</td>\n",
       "      <td>0.327024</td>\n",
       "      <td>0.0</td>\n",
       "      <td>1.0</td>\n",
       "      <td>0.765331</td>\n",
       "      <td>0.478261</td>\n",
       "    </tr>\n",
       "    <tr>\n",
       "      <th>9</th>\n",
       "      <td>0</td>\n",
       "      <td>0.0</td>\n",
       "      <td>0.0</td>\n",
       "      <td>0.498212</td>\n",
       "      <td>0.501812</td>\n",
       "      <td>0.0</td>\n",
       "      <td>0.0</td>\n",
       "      <td>0.742102</td>\n",
       "      <td>0.565217</td>\n",
       "    </tr>\n",
       "  </tbody>\n",
       "</table>\n",
       "</div>"
      ],
      "text/plain": [
       "   Equivalent  CC_rate_r  CD_rate_r  DC_rate_r  DD_rate_r  \\\n",
       "0           1        1.0        1.0   1.000000   1.000000   \n",
       "1           1        1.0        1.0   0.991657   0.991613   \n",
       "2           1        1.0        1.0   0.987684   0.987669   \n",
       "3           0        0.0        0.0   0.468017   0.431333   \n",
       "4           0        0.0        0.0   0.671434   0.337092   \n",
       "5           0        0.0        0.0   0.675805   0.331454   \n",
       "6           0        0.0        0.0   0.451728   0.442610   \n",
       "7           0        0.0        0.0   0.437823   0.445429   \n",
       "8           0        0.0        0.0   0.661104   0.327024   \n",
       "9           0        0.0        0.0   0.498212   0.501812   \n",
       "\n",
       "   Cooperation_rating_r  Initial_C_rate_r  Median_score_r    Wins_r  \n",
       "0                   1.0               1.0        1.000000  1.000000  \n",
       "1                   1.0               1.0        0.994425  1.000000  \n",
       "2                   1.0               1.0        0.991771  0.956522  \n",
       "3                   0.0               0.0        0.794266  0.391304  \n",
       "4                   0.0               1.0        0.780993  0.478261  \n",
       "5                   0.0               1.0        0.780926  0.478261  \n",
       "6                   0.0               0.0        0.779732  0.304348  \n",
       "7                   0.0               0.0        0.772963  0.304348  \n",
       "8                   0.0               1.0        0.765331  0.478261  \n",
       "9                   0.0               0.0        0.742102  0.565217  "
      ]
     },
     "execution_count": 5,
     "metadata": {},
     "output_type": "execute_result"
    }
   ],
   "source": [
    "training_df = create_large_df(cleaned_test_df)\n",
    "training_df.head(10)"
   ]
  },
  {
   "cell_type": "code",
   "execution_count": 6,
   "metadata": {
    "collapsed": false
   },
   "outputs": [],
   "source": [
    "training_data = training_df.copy()\n",
    "training_data.drop('Equivalent', axis=1, inplace=True)\n",
    "equivalent = training_df['Equivalent']"
   ]
  },
  {
   "cell_type": "code",
   "execution_count": 21,
   "metadata": {
    "collapsed": false
   },
   "outputs": [],
   "source": [
    "from sklearn.linear_model import LogisticRegression\n",
    "from sklearn import svm\n",
    "from sklearn.metrics import confusion_matrix, auc, roc_curve\n",
    "import seaborn as sns\n",
    "import itertools\n",
    "import matplotlib.pyplot as plt\n"
   ]
  },
  {
   "cell_type": "code",
   "execution_count": 13,
   "metadata": {
    "collapsed": false
   },
   "outputs": [
    {
     "name": "stdout",
     "output_type": "stream",
     "text": [
      "0.993827160494\n",
      "[1 1 1 0 0 0 0 0 0 0 0 0 0 0 0 0 0 0 1 1 1 0 0 0 0 0 0 0 0 0 0 0 0 0 0 0 1\n",
      " 1 1 0 0 0 0 0 0 0 0 0 0 0 0 0 0 0 0 0 0 1 0 0 1 1 0 0 1 0 0 0 0 0 0 0 0 0\n",
      " 0 0 1 1 0 0 1 0 0 0 0 0 0 0 0 0 0 0 0 0 1 1 0 0 1 0 0 0 0 0 0 0 0 0 0 0 0\n",
      " 1 0 0 1 1 0 0 0 0 0 0 0 0 0 0 0 0 0 1 0 0 1 1 0 0 0 0 0 0 0 0 0 0 0 0 0 0\n",
      " 1 1 0 0 1 0 0 0 0 0 0 0 0 0 0 0 0 0 0 0 0 0 0 1 1 1 0 0 0 0 0 0 0 0 0 1 0\n",
      " 0 0 0 0 1 1 1 0 0 0 0 0 0 0 0 0 0 0 0 0 0 0 1 1 1 0 0 0 0 0 0 0 0 0 0 0 0\n",
      " 0 0 0 0 0 0 1 1 1 0 0 0 0 0 0 0 0 0 0 0 0 0 0 0 1 1 1 0 0 0 0 0 0 0 0 0 0\n",
      " 0 0 0 0 0 1 1 1 0 0 0 0 0 0 0 0 0 0 0 0 0 0 0 0 0 0 1 1 1 0 0 0 0 0 0 0 0\n",
      " 0 0 0 0 0 0 0 1 1 1 0 0 0 0 0 0 0 0 0 0 0 0 0 0 0 1 1 1]\n"
     ]
    },
    {
     "data": {
      "text/html": [
       "<div>\n",
       "<table border=\"1\" class=\"dataframe\">\n",
       "  <thead>\n",
       "    <tr style=\"text-align: right;\">\n",
       "      <th></th>\n",
       "      <th>0</th>\n",
       "      <th>1</th>\n",
       "    </tr>\n",
       "  </thead>\n",
       "  <tbody>\n",
       "    <tr>\n",
       "      <th>0</th>\n",
       "      <td>CC_rate_r</td>\n",
       "      <td>[1.76534301567]</td>\n",
       "    </tr>\n",
       "    <tr>\n",
       "      <th>1</th>\n",
       "      <td>CD_rate_r</td>\n",
       "      <td>[1.49466214901]</td>\n",
       "    </tr>\n",
       "    <tr>\n",
       "      <th>2</th>\n",
       "      <td>DC_rate_r</td>\n",
       "      <td>[1.27154595076]</td>\n",
       "    </tr>\n",
       "    <tr>\n",
       "      <th>3</th>\n",
       "      <td>DD_rate_r</td>\n",
       "      <td>[1.87362194989]</td>\n",
       "    </tr>\n",
       "    <tr>\n",
       "      <th>4</th>\n",
       "      <td>Cooperation_rating_r</td>\n",
       "      <td>[-0.908718593633]</td>\n",
       "    </tr>\n",
       "    <tr>\n",
       "      <th>5</th>\n",
       "      <td>Initial_C_rate_r</td>\n",
       "      <td>[0.842480736041]</td>\n",
       "    </tr>\n",
       "    <tr>\n",
       "      <th>6</th>\n",
       "      <td>Median_score_r</td>\n",
       "      <td>[-2.73312181924]</td>\n",
       "    </tr>\n",
       "    <tr>\n",
       "      <th>7</th>\n",
       "      <td>Wins_r</td>\n",
       "      <td>[2.06157127826]</td>\n",
       "    </tr>\n",
       "  </tbody>\n",
       "</table>\n",
       "</div>"
      ],
      "text/plain": [
       "                      0                  1\n",
       "0             CC_rate_r    [1.76534301567]\n",
       "1             CD_rate_r    [1.49466214901]\n",
       "2             DC_rate_r    [1.27154595076]\n",
       "3             DD_rate_r    [1.87362194989]\n",
       "4  Cooperation_rating_r  [-0.908718593633]\n",
       "5      Initial_C_rate_r   [0.842480736041]\n",
       "6        Median_score_r   [-2.73312181924]\n",
       "7                Wins_r    [2.06157127826]"
      ]
     },
     "execution_count": 13,
     "metadata": {},
     "output_type": "execute_result"
    }
   ],
   "source": [
    "log_model = LogisticRegression()\n",
    "log_model.fit(X=training_data, y=equivalent)\n",
    "print(log_model.score(X=training_data, y=equivalent))\n",
    "print(log_model.predict(training_data))\n",
    "pd.DataFrame(list(zip(training_data.columns, np.transpose(log_model.coef_))))"
   ]
  },
  {
   "cell_type": "code",
   "execution_count": 14,
   "metadata": {
    "collapsed": false
   },
   "outputs": [
    {
     "data": {
      "text/html": [
       "<div>\n",
       "<table border=\"1\" class=\"dataframe\">\n",
       "  <thead>\n",
       "    <tr style=\"text-align: right;\">\n",
       "      <th></th>\n",
       "      <th>Equivalent</th>\n",
       "      <th>CC_rate_r</th>\n",
       "      <th>CD_rate_r</th>\n",
       "      <th>DC_rate_r</th>\n",
       "      <th>DD_rate_r</th>\n",
       "      <th>Cooperation_rating_r</th>\n",
       "      <th>Initial_C_rate_r</th>\n",
       "      <th>Median_score_r</th>\n",
       "      <th>Wins_r</th>\n",
       "    </tr>\n",
       "  </thead>\n",
       "  <tbody>\n",
       "    <tr>\n",
       "      <th>0</th>\n",
       "      <td>1</td>\n",
       "      <td>1.000000</td>\n",
       "      <td>1.000000</td>\n",
       "      <td>1.000000</td>\n",
       "      <td>1.000000</td>\n",
       "      <td>1.000000</td>\n",
       "      <td>1.0</td>\n",
       "      <td>1.000000</td>\n",
       "      <td>1.000000</td>\n",
       "    </tr>\n",
       "    <tr>\n",
       "      <th>1</th>\n",
       "      <td>0</td>\n",
       "      <td>0.946276</td>\n",
       "      <td>0.727344</td>\n",
       "      <td>0.870842</td>\n",
       "      <td>0.958269</td>\n",
       "      <td>0.975134</td>\n",
       "      <td>1.0</td>\n",
       "      <td>0.998891</td>\n",
       "      <td>0.857143</td>\n",
       "    </tr>\n",
       "    <tr>\n",
       "      <th>2</th>\n",
       "      <td>0</td>\n",
       "      <td>0.952221</td>\n",
       "      <td>0.967528</td>\n",
       "      <td>0.927687</td>\n",
       "      <td>0.898924</td>\n",
       "      <td>0.959943</td>\n",
       "      <td>1.0</td>\n",
       "      <td>0.998245</td>\n",
       "      <td>0.857143</td>\n",
       "    </tr>\n",
       "    <tr>\n",
       "      <th>3</th>\n",
       "      <td>0</td>\n",
       "      <td>0.946638</td>\n",
       "      <td>0.742380</td>\n",
       "      <td>0.897783</td>\n",
       "      <td>0.921533</td>\n",
       "      <td>0.984648</td>\n",
       "      <td>1.0</td>\n",
       "      <td>0.997280</td>\n",
       "      <td>0.844828</td>\n",
       "    </tr>\n",
       "    <tr>\n",
       "      <th>4</th>\n",
       "      <td>0</td>\n",
       "      <td>0.943635</td>\n",
       "      <td>0.202614</td>\n",
       "      <td>0.792575</td>\n",
       "      <td>0.703270</td>\n",
       "      <td>0.978363</td>\n",
       "      <td>1.0</td>\n",
       "      <td>0.993334</td>\n",
       "      <td>0.877551</td>\n",
       "    </tr>\n",
       "    <tr>\n",
       "      <th>5</th>\n",
       "      <td>0</td>\n",
       "      <td>0.940148</td>\n",
       "      <td>0.177134</td>\n",
       "      <td>0.781710</td>\n",
       "      <td>0.698685</td>\n",
       "      <td>0.979501</td>\n",
       "      <td>1.0</td>\n",
       "      <td>0.993093</td>\n",
       "      <td>0.877551</td>\n",
       "    </tr>\n",
       "    <tr>\n",
       "      <th>6</th>\n",
       "      <td>0</td>\n",
       "      <td>0.944300</td>\n",
       "      <td>0.316919</td>\n",
       "      <td>0.785937</td>\n",
       "      <td>0.727635</td>\n",
       "      <td>0.988539</td>\n",
       "      <td>1.0</td>\n",
       "      <td>0.988724</td>\n",
       "      <td>0.816327</td>\n",
       "    </tr>\n",
       "    <tr>\n",
       "      <th>7</th>\n",
       "      <td>0</td>\n",
       "      <td>0.987571</td>\n",
       "      <td>0.538941</td>\n",
       "      <td>0.863792</td>\n",
       "      <td>0.725029</td>\n",
       "      <td>0.967621</td>\n",
       "      <td>1.0</td>\n",
       "      <td>0.982518</td>\n",
       "      <td>0.918367</td>\n",
       "    </tr>\n",
       "    <tr>\n",
       "      <th>8</th>\n",
       "      <td>0</td>\n",
       "      <td>0.958140</td>\n",
       "      <td>0.634307</td>\n",
       "      <td>0.816060</td>\n",
       "      <td>0.807026</td>\n",
       "      <td>0.995198</td>\n",
       "      <td>1.0</td>\n",
       "      <td>0.982216</td>\n",
       "      <td>0.897959</td>\n",
       "    </tr>\n",
       "    <tr>\n",
       "      <th>9</th>\n",
       "      <td>0</td>\n",
       "      <td>0.990236</td>\n",
       "      <td>0.623176</td>\n",
       "      <td>0.936557</td>\n",
       "      <td>0.718809</td>\n",
       "      <td>0.937797</td>\n",
       "      <td>1.0</td>\n",
       "      <td>0.975044</td>\n",
       "      <td>0.795918</td>\n",
       "    </tr>\n",
       "  </tbody>\n",
       "</table>\n",
       "</div>"
      ],
      "text/plain": [
       "   Equivalent  CC_rate_r  CD_rate_r  DC_rate_r  DD_rate_r  \\\n",
       "0           1   1.000000   1.000000   1.000000   1.000000   \n",
       "1           0   0.946276   0.727344   0.870842   0.958269   \n",
       "2           0   0.952221   0.967528   0.927687   0.898924   \n",
       "3           0   0.946638   0.742380   0.897783   0.921533   \n",
       "4           0   0.943635   0.202614   0.792575   0.703270   \n",
       "5           0   0.940148   0.177134   0.781710   0.698685   \n",
       "6           0   0.944300   0.316919   0.785937   0.727635   \n",
       "7           0   0.987571   0.538941   0.863792   0.725029   \n",
       "8           0   0.958140   0.634307   0.816060   0.807026   \n",
       "9           0   0.990236   0.623176   0.936557   0.718809   \n",
       "\n",
       "   Cooperation_rating_r  Initial_C_rate_r  Median_score_r    Wins_r  \n",
       "0              1.000000               1.0        1.000000  1.000000  \n",
       "1              0.975134               1.0        0.998891  0.857143  \n",
       "2              0.959943               1.0        0.998245  0.857143  \n",
       "3              0.984648               1.0        0.997280  0.844828  \n",
       "4              0.978363               1.0        0.993334  0.877551  \n",
       "5              0.979501               1.0        0.993093  0.877551  \n",
       "6              0.988539               1.0        0.988724  0.816327  \n",
       "7              0.967621               1.0        0.982518  0.918367  \n",
       "8              0.995198               1.0        0.982216  0.897959  \n",
       "9              0.937797               1.0        0.975044  0.795918  "
      ]
     },
     "execution_count": 14,
     "metadata": {},
     "output_type": "execute_result"
    }
   ],
   "source": [
    "overall_df = pd.read_csv('large_summary.csv', index_col=0)\n",
    "overall_df.head(10)"
   ]
  },
  {
   "cell_type": "code",
   "execution_count": 39,
   "metadata": {
    "collapsed": false
   },
   "outputs": [
    {
     "name": "stdout",
     "output_type": "stream",
     "text": [
      "0.9762978379\n"
     ]
    }
   ],
   "source": [
    "overall_data = overall_df.copy()\n",
    "overall_data.drop('Equivalent', axis=1, inplace=True)\n",
    "overall_equivalent = overall_df['Equivalent']\n",
    "print(log_model.score(X=overall_data, y=overall_equivalent))"
   ]
  },
  {
   "cell_type": "code",
   "execution_count": 45,
   "metadata": {
    "collapsed": false
   },
   "outputs": [
    {
     "data": {
      "text/html": [
       "<div>\n",
       "<table border=\"1\" class=\"dataframe\">\n",
       "  <thead>\n",
       "    <tr style=\"text-align: right;\">\n",
       "      <th></th>\n",
       "      <th>actual</th>\n",
       "      <th>probability</th>\n",
       "    </tr>\n",
       "  </thead>\n",
       "  <tbody>\n",
       "    <tr>\n",
       "      <th>0</th>\n",
       "      <td>1</td>\n",
       "      <td>0.765578</td>\n",
       "    </tr>\n",
       "    <tr>\n",
       "      <th>1</th>\n",
       "      <td>0</td>\n",
       "      <td>0.542357</td>\n",
       "    </tr>\n",
       "    <tr>\n",
       "      <th>2</th>\n",
       "      <td>0</td>\n",
       "      <td>0.626208</td>\n",
       "    </tr>\n",
       "    <tr>\n",
       "      <th>3</th>\n",
       "      <td>0</td>\n",
       "      <td>0.532142</td>\n",
       "    </tr>\n",
       "    <tr>\n",
       "      <th>4</th>\n",
       "      <td>0</td>\n",
       "      <td>0.241937</td>\n",
       "    </tr>\n",
       "    <tr>\n",
       "      <th>5</th>\n",
       "      <td>0</td>\n",
       "      <td>0.229859</td>\n",
       "    </tr>\n",
       "    <tr>\n",
       "      <th>6</th>\n",
       "      <td>0</td>\n",
       "      <td>0.258128</td>\n",
       "    </tr>\n",
       "    <tr>\n",
       "      <th>7</th>\n",
       "      <td>0</td>\n",
       "      <td>0.423838</td>\n",
       "    </tr>\n",
       "    <tr>\n",
       "      <th>8</th>\n",
       "      <td>0</td>\n",
       "      <td>0.452686</td>\n",
       "    </tr>\n",
       "    <tr>\n",
       "      <th>9</th>\n",
       "      <td>0</td>\n",
       "      <td>0.425443</td>\n",
       "    </tr>\n",
       "  </tbody>\n",
       "</table>\n",
       "</div>"
      ],
      "text/plain": [
       "   actual  probability\n",
       "0       1     0.765578\n",
       "1       0     0.542357\n",
       "2       0     0.626208\n",
       "3       0     0.532142\n",
       "4       0     0.241937\n",
       "5       0     0.229859\n",
       "6       0     0.258128\n",
       "7       0     0.423838\n",
       "8       0     0.452686\n",
       "9       0     0.425443"
      ]
     },
     "execution_count": 45,
     "metadata": {},
     "output_type": "execute_result"
    }
   ],
   "source": [
    "probabilities = [i[1] for i in log_model.predict_proba(X=overall_data)]\n",
    "comparison_df = pd.DataFrame({'probability': probabilities,\n",
    "                              'actual': overall_equivalent})\n",
    "comparison_df.head(10)"
   ]
  },
  {
   "cell_type": "code",
   "execution_count": 79,
   "metadata": {
    "collapsed": false
   },
   "outputs": [
    {
     "name": "stdout",
     "output_type": "stream",
     "text": [
      "34410\n"
     ]
    },
    {
     "data": {
      "image/png": "[encoded data removed]",
      "text/plain": [
       "<matplotlib.figure.Figure at 0x10d500f60>"
      ]
     },
     "metadata": {},
     "output_type": "display_data"
    }
   ],
   "source": [
    "different_df = comparison_df.copy()\n",
    "different_df = different_df[comparison_df.actual == 0]\n",
    "different_df.drop('actual', inplace=True, axis=1)\n",
    "print(len(different_df.index))\n",
    "sns.distplot(different_df['probability'], kde=False)\n",
    "plt.show()"
   ]
  },
  {
   "cell_type": "code",
   "execution_count": 78,
   "metadata": {
    "collapsed": false
   },
   "outputs": [
    {
     "name": "stdout",
     "output_type": "stream",
     "text": [
      "186\n"
     ]
    },
    {
     "data": {
      "image/png": "[encoded data removed]",
      "text/plain": [
       "<matplotlib.figure.Figure at 0x10c214780>"
      ]
     },
     "metadata": {},
     "output_type": "display_data"
    }
   ],
   "source": [
    "same_df = comparison_df.copy()\n",
    "same_df = same_df[comparison_df.actual == 1]\n",
    "same_df.drop('actual', inplace=True, axis=1)\n",
    "print(len(same_df.index))\n",
    "sns.distplot(same_df['probability'], kde=False)\n",
    "plt.show()"
   ]
  },
  {
   "cell_type": "code",
   "execution_count": 72,
   "metadata": {
    "collapsed": false
   },
   "outputs": [
    {
     "data": {
      "image/png": "[encoded data removed]",
      "text/plain": [
       "<matplotlib.figure.Figure at 0x10ca119b0>"
      ]
     },
     "metadata": {},
     "output_type": "display_data"
    }
   ],
   "source": [
    "sns.distplot(comparison_df['probability'])\n",
    "plt.show()"
   ]
  },
  {
   "cell_type": "code",
   "execution_count": 77,
   "metadata": {
    "collapsed": false
   },
   "outputs": [
    {
     "data": {
      "image/png": "[encoded data removed]",
      "text/plain": [
       "<matplotlib.figure.Figure at 0x10c3bf390>"
      ]
     },
     "metadata": {},
     "output_type": "display_data"
    }
   ],
   "source": [
    "fig, ax = plt.subplots()\n",
    "for a in [different_df['probability'], same_df['probability']]:\n",
    "    sns.distplot(a, ax=ax, kde=False)\n",
    "plt.show()"
   ]
  },
  {
   "cell_type": "code",
   "execution_count": 16,
   "metadata": {
    "collapsed": false
   },
   "outputs": [],
   "source": [
    "def plot_confusion_matrix(cm, classes,\n",
    "                          normalize=False,\n",
    "                          title='Confusion matrix',\n",
    "                          cmap=plt.cm.Blues):\n",
    "    \"\"\"\n",
    "    This function prints and plots the confusion matrix.\n",
    "    Normalization can be applied by setting `normalize=True`.\n",
    "    \"\"\"\n",
    "    plt.imshow(cm, interpolation='nearest', cmap=cmap)\n",
    "    plt.title(title)\n",
    "    plt.colorbar()\n",
    "    tick_marks = np.arange(len(classes))\n",
    "    plt.xticks(tick_marks, classes, rotation=45)\n",
    "    plt.yticks(tick_marks, classes)\n",
    "\n",
    "    if normalize:\n",
    "        cm = cm.astype('float') / cm.sum(axis=1)[:, np.newaxis]\n",
    "        print(\"Normalized confusion matrix\")\n",
    "    else:\n",
    "        print('Confusion matrix, without normalization')\n",
    "\n",
    "    print(cm)\n",
    "\n",
    "    thresh = cm.max() / 2.\n",
    "    for i, j in itertools.product(range(cm.shape[0]), range(cm.shape[1])):\n",
    "        plt.text(j, i, cm[i, j],\n",
    "                 horizontalalignment=\"center\",\n",
    "                 color=\"white\" if cm[i, j] > thresh else \"black\")\n",
    "\n",
    "    plt.tight_layout()\n",
    "    plt.ylabel('True label')\n",
    "    plt.xlabel('Predicted label')"
   ]
  },
  {
   "cell_type": "code",
   "execution_count": 18,
   "metadata": {
    "collapsed": false,
    "scrolled": true
   },
   "outputs": [
    {
     "name": "stdout",
     "output_type": "stream",
     "text": [
      "Confusion matrix, without normalization\n",
      "[[33590   820]\n",
      " [    0   186]]\n"
     ]
    },
    {
     "data": {
      "text/plain": [
       "<matplotlib.figure.Figure at 0x10b3d97f0>"
      ]
     },
     "metadata": {},
     "output_type": "display_data"
    },
    {
     "data": {
      "image/png": "[encoded data removed]",
      "text/plain": [
       "<matplotlib.figure.Figure at 0x109b2ce10>"
      ]
     },
     "metadata": {},
     "output_type": "display_data"
    }
   ],
   "source": [
    "predictions = log_model.predict(X=overall_data)\n",
    "cnf_matrix = confusion_matrix(overall_equivalent, predictions)\n",
    "np.set_printoptions(precision=2)\n",
    "class_names = ['Different', 'Same']\n",
    "sns.set_style(\"whitegrid\", {'axes.grid' : False})\n",
    "plt.figure()\n",
    "plot_confusion_matrix(cnf_matrix, classes=class_names, title='Confusion matrix, without normalization')\n",
    "plt.show()\n",
    "plt.clf()"
   ]
  },
  {
   "cell_type": "code",
   "execution_count": 29,
   "metadata": {
    "collapsed": false
   },
   "outputs": [
    {
     "data": {
      "image/png": "[encoded data removed]",
      "text/plain": [
       "<matplotlib.figure.Figure at 0x109f3cc18>"
      ]
     },
     "metadata": {},
     "output_type": "display_data"
    }
   ],
   "source": [
    "fpr, tpr, _ = roc_curve(overall_equivalent, predictions, pos_label=1)\n",
    "roc_auc = auc(fpr, tpr)\n",
    "# Compute micro-average ROC curve and ROC area\n",
    "sns.set_style('darkgrid')\n",
    "\n",
    "plt.figure()\n",
    "plt.plot(fpr, tpr, label='ROC curve (area = %0.2f)' % roc_auc)\n",
    "plt.plot([0, 1], [0, 1])\n",
    "plt.xlim([0.0, 1.0])\n",
    "plt.ylim([0.0, 1.05])\n",
    "plt.xlabel('False Positive Rate')\n",
    "plt.ylabel('True Positive Rate')\n",
    "plt.title('Receiver operating characteristic example')\n",
    "plt.legend(loc=\"lower right\")\n",
    "plt.show()"
   ]
  },
  {
   "cell_type": "code",
   "execution_count": null,
   "metadata": {
    "collapsed": false
   },
   "outputs": [],
   "source": []
  },
  {
   "cell_type": "code",
   "execution_count": null,
   "metadata": {
    "collapsed": false
   },
   "outputs": [],
   "source": []
  },
  {
   "cell_type": "code",
   "execution_count": null,
   "metadata": {
    "collapsed": false
   },
   "outputs": [],
   "source": []
  },
  {
   "cell_type": "code",
   "execution_count": null,
   "metadata": {
    "collapsed": false
   },
   "outputs": [],
   "source": [
    "\n"
   ]
  },
  {
   "cell_type": "code",
   "execution_count": null,
   "metadata": {
    "collapsed": false
   },
   "outputs": [],
   "source": []
  },
  {
   "cell_type": "code",
   "execution_count": null,
   "metadata": {
    "collapsed": false
   },
   "outputs": [],
   "source": []
  },
  {
   "cell_type": "code",
   "execution_count": null,
   "metadata": {
    "collapsed": false
   },
   "outputs": [],
   "source": [
    "from sklearn.linear_model import LogisticRegression\n",
    "from sklearn import svm"
   ]
  },
  {
   "cell_type": "code",
   "execution_count": null,
   "metadata": {
    "collapsed": false,
    "scrolled": true
   },
   "outputs": [],
   "source": [
    "log_model = LogisticRegression()\n",
    "log_model.fit(X=balanced_training_data, y=balanced_equivalence)\n",
    "print(log_model.score(X=balanced_training_data, y=balanced_equivalence))\n",
    "print(log_model.predict(balanced_training_data))\n",
    "pd.DataFrame(list(zip(training_data.columns, np.transpose(log_model.coef_))))"
   ]
  },
  {
   "cell_type": "code",
   "execution_count": null,
   "metadata": {
    "collapsed": false
   },
   "outputs": [],
   "source": [
    "log_model = LogisticRegression(class_weight='balanced')\n",
    "log_model.fit(X=unbalanced_training_data, y=unbalanced_equivalence)\n",
    "print(log_model.score(X=unbalanced_training_data, y=unbalanced_equivalence))\n",
    "print(log_model.predict(unbalanced_training_data))\n",
    "pd.DataFrame(list(zip(training_data.columns, np.transpose(log_model.coef_))))"
   ]
  },
  {
   "cell_type": "code",
   "execution_count": null,
   "metadata": {
    "collapsed": false
   },
   "outputs": [],
   "source": []
  },
  {
   "cell_type": "code",
   "execution_count": null,
   "metadata": {
    "collapsed": false
   },
   "outputs": [],
   "source": [
    "svm_model = svm.SVC()\n",
    "svm_model.fit(X=balanced_training_data, y=balanced_equivalence)\n",
    "svm_model.score(X=balanced_training_data, y=balanced_equivalence)\n",
    "print(svm_model.score(X=balanced_training_data, y=balanced_equivalence))\n",
    "print(svm_model.predict(balanced_training_data))"
   ]
  },
  {
   "cell_type": "code",
   "execution_count": null,
   "metadata": {
    "collapsed": false
   },
   "outputs": [],
   "source": [
    "svm_model = svm.SVC(class_weight='balanced')\n",
    "svm_model.fit(X=unbalanced_training_data, y=unbalanced_equivalence)\n",
    "svm_model.score(X=unbalanced_training_data, y=unbalanced_equivalence)\n",
    "print(svm_model.score(X=unbalanced_training_data, y=unbalanced_equivalence))\n",
    "print(svm_model.predict(unbalanced_training_data))"
   ]
  },
  {
   "cell_type": "code",
   "execution_count": null,
   "metadata": {
    "collapsed": false
   },
   "outputs": [],
   "source": [
    "svm_model = svm.SVC(kernel='linear')\n",
    "svm_model.fit(X=balanced_training_data, y=balanced_equivalence)\n",
    "svm_model.score(X=balanced_training_data, y=balanced_equivalence)\n",
    "print(svm_model.score(X=balanced_training_data, y=balanced_equivalence))\n",
    "print(svm_model.predict(balanced_training_data))\n"
   ]
  },
  {
   "cell_type": "code",
   "execution_count": null,
   "metadata": {
    "collapsed": false
   },
   "outputs": [],
   "source": [
    "svm_model = svm.SVC(kernel='linear', class_weight='balanced')\n",
    "svm_model.fit(X=unbalanced_training_data, y=unbalanced_equivalence)\n",
    "svm_model.score(X=unbalanced_training_data, y=unbalanced_equivalence)\n",
    "print(svm_model.score(X=unbalanced_training_data, y=unbalanced_equivalence))\n",
    "print(svm_model.predict(unbalanced_training_data))"
   ]
  },
  {
   "cell_type": "code",
   "execution_count": null,
   "metadata": {
    "collapsed": false
   },
   "outputs": [],
   "source": [
    "svm_model = svm.SVC(kernel='poly', class_weight='balanced')\n",
    "svm_model.fit(X=unbalanced_training_data, y=unbalanced_equivalence)\n",
    "svm_model.score(X=unbalanced_training_data, y=unbalanced_equivalence)\n",
    "print(svm_model.score(X=unbalanced_training_data, y=unbalanced_equivalence))\n",
    "print(svm_model.predict(unbalanced_training_data))\n"
   ]
  },
  {
   "cell_type": "code",
   "execution_count": null,
   "metadata": {
    "collapsed": false
   },
   "outputs": [],
   "source": [
    "svm_model = svm.SVC()\n",
    "svm_model.fit(X=unbalanced_training_data, y=unbalanced_equivalence)\n",
    "svm_model.score(X=unbalanced_training_data, y=unbalanced_equivalence)\n",
    "print(svm_model.score(X=unbalanced_training_data, y=unbalanced_equivalence))\n",
    "print(svm_model.predict(unbalanced_training_data))"
   ]
  },
  {
   "cell_type": "code",
   "execution_count": null,
   "metadata": {
    "collapsed": false
   },
   "outputs": [],
   "source": [
    "svm_model = svm.SVC(class_weight='balanced')\n",
    "svm_model.fit(X=unbalanced_training_data, y=unbalanced_equivalence)\n",
    "svm_model.score(X=unbalanced_training_data, y=unbalanced_equivalence)\n",
    "print(svm_model.score(X=unbalanced_training_data, y=unbalanced_equivalence))\n",
    "print(svm_model.predict(unbalanced_training_data))\n",
    "# print(svm_model.predict_proba(training_data))"
   ]
  },
  {
   "cell_type": "code",
   "execution_count": null,
   "metadata": {
    "collapsed": false
   },
   "outputs": [],
   "source": [
    "svm_model = svm.SVC(kernel='poly')\n",
    "svm_model.fit(X=unbalanced_training_data, y=unbalanced_equivalence)\n",
    "svm_model.score(X=unbalanced_training_data, y=unbalanced_equivalence)\n",
    "print(svm_model.score(X=unbalanced_training_data, y=unbalanced_equivalence))\n",
    "print(svm_model.predict(unbalanced_training_data))\n",
    "# print(svm_model.predict_proba(training_data))"
   ]
  },
  {
   "cell_type": "code",
   "execution_count": null,
   "metadata": {
    "collapsed": false
   },
   "outputs": [],
   "source": [
    "svm_model = svm.SVC(class_weight='balanced', kernel='poly')\n",
    "svm_model.fit(X=unbalanced_training_data, y=unbalanced_equivalence)\n",
    "svm_model.score(X=unbalanced_training_data, y=unbalanced_equivalence)\n",
    "print(svm_model.score(X=unbalanced_training_data, y=unbalanced_equivalence))\n",
    "print(svm_model.predict(unbalanced_training_data))"
   ]
  },
  {
   "cell_type": "code",
   "execution_count": null,
   "metadata": {
    "collapsed": false
   },
   "outputs": [],
   "source": [
    "svm_model = svm.SVC(kernel='linear')\n",
    "svm_model.fit(X=unbalanced_training_data, y=unbalanced_equivalence)\n",
    "svm_model.score(X=unbalanced_training_data, y=unbalanced_equivalence)\n",
    "print(svm_model.score(X=unbalanced_training_data, y=unbalanced_equivalence))\n",
    "print(svm_model.predict(unbalanced_training_data))"
   ]
  },
  {
   "cell_type": "code",
   "execution_count": null,
   "metadata": {
    "collapsed": false
   },
   "outputs": [],
   "source": [
    "svm_model = svm.SVC(class_weight='balanced', kernel='linear')\n",
    "svm_model.fit(X=unbalanced_training_data, y=unbalanced_equivalence)\n",
    "print(svm_model.score(X=unbalanced_training_data, y=unbalanced_equivalence))\n",
    "print(svm_model.predict(unbalanced_training_data))"
   ]
  },
  {
   "cell_type": "code",
   "execution_count": null,
   "metadata": {
    "collapsed": false
   },
   "outputs": [],
   "source": [
    "from collections import Counter\n",
    "from imblearn.combine import SMOTEENN, SMOTETomek\n",
    "from sklearn.metrics import confusion_matrix, roc_curve, auc\n",
    "import matplotlib.pyplot as plt\n",
    "import seaborn as sns\n",
    "import itertools\n",
    "import numpy as np"
   ]
  },
  {
   "cell_type": "code",
   "execution_count": null,
   "metadata": {
    "collapsed": false
   },
   "outputs": [],
   "source": [
    "print('Original dataset shape {}'.format(Counter(unbalanced_equivalence)))\n",
    "sme = SMOTEENN(random_state=42)\n",
    "X_res, y_res = sme.fit_sample(unbalanced_training_data, unbalanced_equivalence)\n",
    "print('Resampled dataset shape {}'.format(Counter(y_res)))\n",
    "\n",
    "svm_model = svm.SVC(kernel='poly')\n",
    "svm_model.fit(X=X_res, y=y_res)\n",
    "print(svm_model.score(X=unbalanced_training_data, y=unbalanced_equivalence))\n",
    "print(svm_model.predict(unbalanced_training_data))"
   ]
  },
  {
   "cell_type": "code",
   "execution_count": null,
   "metadata": {
    "collapsed": false
   },
   "outputs": [],
   "source": [
    "print('Original dataset shape {}'.format(Counter(unbalanced_equivalence)))\n",
    "smt = SMOTETomek(random_state=42)\n",
    "X_res, y_res = sme.fit_sample(unbalanced_training_data, unbalanced_equivalence)\n",
    "print('Resampled dataset shape {}'.format(Counter(y_res)))\n",
    "\n",
    "svm_model = svm.SVC(kernel='poly')\n",
    "svm_model.fit(X=X_res, y=y_res)\n",
    "print(svm_model.score(X=unbalanced_training_data, y=unbalanced_equivalence))\n",
    "print(svm_model.predict(unbalanced_training_data))\n",
    "\n"
   ]
  },
  {
   "cell_type": "code",
   "execution_count": null,
   "metadata": {
    "collapsed": false
   },
   "outputs": [],
   "source": [
    "def plot_confusion_matrix(cm, classes,\n",
    "                          normalize=False,\n",
    "                          title='Confusion matrix',\n",
    "                          cmap=plt.cm.Blues):\n",
    "    \"\"\"\n",
    "    This function prints and plots the confusion matrix.\n",
    "    Normalization can be applied by setting `normalize=True`.\n",
    "    \"\"\"\n",
    "    plt.imshow(cm, interpolation='nearest', cmap=cmap)\n",
    "    plt.title(title)\n",
    "    plt.colorbar()\n",
    "    tick_marks = np.arange(len(classes))\n",
    "    plt.xticks(tick_marks, classes, rotation=45)\n",
    "    plt.yticks(tick_marks, classes)\n",
    "\n",
    "    if normalize:\n",
    "        cm = cm.astype('float') / cm.sum(axis=1)[:, np.newaxis]\n",
    "        print(\"Normalized confusion matrix\")\n",
    "    else:\n",
    "        print('Confusion matrix, without normalization')\n",
    "\n",
    "    print(cm)\n",
    "\n",
    "    thresh = cm.max() / 2.\n",
    "    for i, j in itertools.product(range(cm.shape[0]), range(cm.shape[1])):\n",
    "        plt.text(j, i, cm[i, j],\n",
    "                 horizontalalignment=\"center\",\n",
    "                 color=\"white\" if cm[i, j] > thresh else \"black\")\n",
    "\n",
    "    plt.tight_layout()\n",
    "    plt.ylabel('True label')\n",
    "    plt.xlabel('Predicted label')\n",
    "\n",
    "\n",
    "class_names = ['Different', 'Same']\n",
    "smt = SMOTETomek(random_state=18)\n",
    "X_res, y_res = sme.fit_sample(unbalanced_training_data, unbalanced_equivalence)\n",
    "classifier = svm.SVC(kernel='poly')\n",
    "y_pred = classifier.fit(X_res, y_res).predict(unbalanced_training_data)\n",
    "cnf_matrix = confusion_matrix(unbalanced_equivalence, y_pred)\n",
    "np.set_printoptions(precision=2)\n",
    "\n",
    "\n",
    "sns.set_style(\"whitegrid\", {'axes.grid' : False})\n",
    "plt.figure()\n",
    "plot_confusion_matrix(cnf_matrix, classes=class_names, title='Confusion matrix, without normalization')\n",
    "plt.show()\n",
    "plt.clf()"
   ]
  },
  {
   "cell_type": "code",
   "execution_count": null,
   "metadata": {
    "collapsed": false
   },
   "outputs": [],
   "source": [
    "fpr, tpr, _ = roc_curve(unbalanced_equivalence, y_pred, pos_label=1)\n",
    "roc_auc = auc(fpr, tpr)\n",
    "print(fpr, tpr)\n",
    "# Compute micro-average ROC curve and ROC area\n",
    "sns.set_style('darkgrid')\n",
    "\n",
    "plt.figure()\n",
    "plt.plot(fpr, tpr, label='ROC curve (area = %0.2f)' % roc_auc)\n",
    "plt.plot([0, 1], [0, 1])\n",
    "plt.xlim([0.0, 1.0])\n",
    "plt.ylim([0.0, 1.0])\n",
    "plt.xlabel('False Positive Rate')\n",
    "plt.ylabel('True Positive Rate')\n",
    "plt.title('Receiver operating characteristic example')\n",
    "plt.legend(loc=\"lower right\")\n",
    "plt.show()\n"
   ]
  },
  {
   "cell_type": "code",
   "execution_count": null,
   "metadata": {
    "collapsed": true
   },
   "outputs": [],
   "source": []
  },
  {
   "cell_type": "code",
   "execution_count": null,
   "metadata": {
    "collapsed": false
   },
   "outputs": [],
   "source": [
    "# summary_df = pd.read_csv('std_summary.csv')\n",
    "# orig_columns = summary_df.columns\n",
    "# A_columns = [i + '_A' for i in orig_columns]\n",
    "# B_columns = [i + '_B' for i in orig_columns]\n",
    "# summary_df_A = summary_df.copy()\n",
    "# summary_df_B = summary_df.copy()\n",
    "# summary_df_A.columns = A_columns\n",
    "# summary_df_B.columns = B_columns\n",
    "# large_df = pd.DataFrame()\n",
    "# length = len(summary_df.index)\n",
    "# for x in range(length):\n",
    "#     for y in range(length):\n",
    "#         line = pd.concat([summary_df_A.iloc[x], summary_df_B.iloc[y]])\n",
    "#         large_df = large_df.append(line, ignore_index=True)"
   ]
  },
  {
   "cell_type": "code",
   "execution_count": null,
   "metadata": {
    "collapsed": false
   },
   "outputs": [],
   "source": [
    "large_df.head(10)"
   ]
  },
  {
   "cell_type": "code",
   "execution_count": null,
   "metadata": {
    "collapsed": false
   },
   "outputs": [],
   "source": [
    "large_df.drop('Name_A', axis=1, inplace=True)\n",
    "large_df.drop('Name_B', axis=1, inplace=True)"
   ]
  },
  {
   "cell_type": "code",
   "execution_count": null,
   "metadata": {
    "collapsed": false
   },
   "outputs": [],
   "source": [
    "probs = log_model.predict_proba(large_df)\n",
    "probs"
   ]
  },
  {
   "cell_type": "code",
   "execution_count": null,
   "metadata": {
    "collapsed": false
   },
   "outputs": [],
   "source": [
    "sum(probs)"
   ]
  },
  {
   "cell_type": "code",
   "execution_count": 81,
   "metadata": {
    "collapsed": false
   },
   "outputs": [
    {
     "data": {
      "text/plain": [
       "[Adaptive,\n",
       " Adaptive Tit For Tat: 0.5,\n",
       " Aggravater,\n",
       " ALLCorALLD,\n",
       " Alternator,\n",
       " Alternator Hunter,\n",
       " AntiCycler,\n",
       " Anti Tit For Tat,\n",
       " Adapative Pavlov 2006,\n",
       " Adapative Pavlov 2011,\n",
       " Appeaser,\n",
       " Arrogant QLearner,\n",
       " Average Copier,\n",
       " Better and Better,\n",
       " BackStabber,\n",
       " Bully,\n",
       " Calculator,\n",
       " Cautious QLearner,\n",
       " Champion,\n",
       " CollectiveStrategy,\n",
       " Contrite Tit For Tat,\n",
       " Cooperator,\n",
       " Cooperator Hunter,\n",
       " Cycle Hunter,\n",
       " Cycler CCCCCD,\n",
       " Cycler CCCD,\n",
       " Cycler CCD,\n",
       " Cycler DC,\n",
       " Cycler DDC,\n",
       " Cycler CCCDCD,\n",
       " Davis,\n",
       " Defector,\n",
       " Defector Hunter,\n",
       " Desperate,\n",
       " DoubleCrosser,\n",
       " Doubler,\n",
       " EasyGo,\n",
       " Eatherley,\n",
       " Eventual Cycle Hunter,\n",
       " Evolved ANN,\n",
       " Evolved ANN 5,\n",
       " Evolved ANN 5 Noise 05,\n",
       " Evolved FSM 4,\n",
       " Evolved FSM 16,\n",
       " Evolved FSM 16 Noise 05,\n",
       " EvolvedLookerUp1_1_1,\n",
       " EvolvedLookerUp2_2_2,\n",
       " Evolved HMM 5,\n",
       " Feld,\n",
       " Firm But Fair,\n",
       " Fool Me Forever,\n",
       " Fool Me Once,\n",
       " Forgetful Fool Me Once,\n",
       " Forgetful Grudger,\n",
       " Forgiver,\n",
       " Forgiving Tit For Tat,\n",
       " Fortress3,\n",
       " Fortress4,\n",
       " GTFT: 0.33,\n",
       " Soft Go By Majority,\n",
       " Soft Go By Majority: 10,\n",
       " Soft Go By Majority: 20,\n",
       " Soft Go By Majority: 40,\n",
       " Soft Go By Majority: 5,\n",
       " $\\phi$,\n",
       " Gradual,\n",
       " Gradual Killer,\n",
       " Grofman,\n",
       " Grudger,\n",
       " GrudgerAlternator,\n",
       " Grumpy,\n",
       " Handshake,\n",
       " Hard Go By Majority,\n",
       " Hard Go By Majority: 10,\n",
       " Hard Go By Majority: 20,\n",
       " Hard Go By Majority: 40,\n",
       " Hard Go By Majority: 5,\n",
       " Hard Prober,\n",
       " Hard Tit For 2 Tats,\n",
       " Hard Tit For Tat,\n",
       " Hesitant QLearner,\n",
       " Hopeless,\n",
       " Inverse,\n",
       " Inverse Punisher,\n",
       " Joss: 0.9,\n",
       " Knowledgeable Worse and Worse,\n",
       " Limited Retaliate (0.1/20),\n",
       " Limited Retaliate (0.08/15),\n",
       " Limited Retaliate (0.05/20),\n",
       " Math Constant Hunter,\n",
       " Naive Prober: 0.1,\n",
       " MEM2,\n",
       " Negation,\n",
       " Nice Average Copier,\n",
       " Nydegger,\n",
       " Omega TFT,\n",
       " Once Bitten,\n",
       " Opposite Grudger,\n",
       " $\\pi$,\n",
       " Predator,\n",
       " Prober,\n",
       " Prober 2,\n",
       " Prober 3,\n",
       " Prober 4,\n",
       " Pun1,\n",
       " PSO Gambler 1_1_1,\n",
       " PSO Gambler 2_2_2,\n",
       " PSO Gambler 2_2_2 Noise 05,\n",
       " PSO Gambler Mem1,\n",
       " Punisher,\n",
       " Raider,\n",
       " Random: 0.5,\n",
       " Random Hunter,\n",
       " Remorseful Prober: 0.1,\n",
       " Retaliate (0.1),\n",
       " Retaliate (0.08),\n",
       " Retaliate (0.05),\n",
       " Revised Downing,\n",
       " Ripoff,\n",
       " Risky QLearner,\n",
       " Shubik,\n",
       " Slow Tit For Two Tats,\n",
       " Sneaky Tit For Tat,\n",
       " Soft Grudger,\n",
       " Soft Joss: 0.9,\n",
       " SolutionB1,\n",
       " SolutionB5,\n",
       " Spiteful Tit For Tat,\n",
       " Stochastic Cooperator,\n",
       " Stochastic WSLS,\n",
       " Suspicious Tit For Tat,\n",
       " Tester,\n",
       " ThueMorse,\n",
       " ThueMorseInverse,\n",
       " Thumper,\n",
       " Tit For Tat,\n",
       " Tit For 2 Tats,\n",
       " Tricky Cooperator,\n",
       " Tricky Defector,\n",
       " Tullock,\n",
       " Two Tits For Tat,\n",
       " Willing,\n",
       " Winner12,\n",
       " Winner21,\n",
       " Win-Shift Lose-Stay,\n",
       " Win-Stay Lose-Shift,\n",
       " Worse and Worse,\n",
       " Worse and Worse 2,\n",
       " Worse and Worse 3,\n",
       " ZD-Extort-2,\n",
       " ZD-Extort-2 v2,\n",
       " ZD-Extort-4,\n",
       " ZD-GTFT-2,\n",
       " ZD-GEN-2,\n",
       " ZD-SET-2,\n",
       " $e$,\n",
       " Meta Hunter,\n",
       " Meta Hunter Aggressive,\n",
       " Meta Majority,\n",
       " Meta Majority Memory One,\n",
       " Meta Majority Finite Memory,\n",
       " Meta Majority Long Memory,\n",
       " Meta Minority,\n",
       " Meta Mixer,\n",
       " Meta Winner,\n",
       " Meta Winner Deterministic,\n",
       " Meta Winner Ensemble,\n",
       " Meta Winner Memory One,\n",
       " Meta Winner Finite Memory,\n",
       " Meta Winner Long Memory,\n",
       " Meta Winner Stochastic,\n",
       " NMWE Deterministic,\n",
       " NMWE Finite Memory,\n",
       " NMWE Long Memory,\n",
       " NMWE Memory One,\n",
       " NMWE Stochastic,\n",
       " Nice Meta Winner,\n",
       " Nice Meta Winner Ensemble]"
      ]
     },
     "execution_count": 81,
     "metadata": {},
     "output_type": "execute_result"
    }
   ],
   "source": [
    "strats = [i() for i in axl.strategies]\n",
    "strats"
   ]
  },
  {
   "cell_type": "code",
   "execution_count": null,
   "metadata": {
    "collapsed": false
   },
   "outputs": [],
   "source": []
  },
  {
   "cell_type": "code",
   "execution_count": null,
   "metadata": {
    "collapsed": false
   },
   "outputs": [],
   "source": []
  },
  {
   "cell_type": "code",
   "execution_count": null,
   "metadata": {
    "collapsed": false
   },
   "outputs": [],
   "source": []
  },
  {
   "cell_type": "code",
   "execution_count": null,
   "metadata": {
    "collapsed": true
   },
   "outputs": [],
   "source": []
  }
 ],
 "metadata": {
  "kernelspec": {
   "display_name": "Python 3",
   "language": "python",
   "name": "python3"
  },
  "language_info": {
   "codemirror_mode": {
    "name": "ipython",
    "version": 3
   },
   "file_extension": ".py",
   "mimetype": "text/x-python",
   "name": "python",
   "nbconvert_exporter": "python",
   "pygments_lexer": "ipython3",
   "version": "3.5.2"
  }
 },
 "nbformat": 4,
 "nbformat_minor": 2
}
